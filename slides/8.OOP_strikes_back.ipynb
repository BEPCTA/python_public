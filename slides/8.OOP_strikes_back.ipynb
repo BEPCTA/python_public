{
 "cells": [
  {
   "cell_type": "markdown",
   "metadata": {},
   "source": [
    "<center>\n",
    "<img src=\"https://upload.wikimedia.org/wikipedia/commons/a/a8/%D0%9B%D0%9E%D0%93%D0%9E_%D0%A8%D0%90%D0%94.png\" width=300px/>\n",
    "<br />\n",
    "<h1>Дескрипторы и Метаклассы</h1>\n",
    "<h3>Python</h3>\n",
    "<br />\n",
    "<h4>2018</h4> </center>"
   ]
  },
  {
   "cell_type": "markdown",
   "metadata": {
    "slideshow": {
     "slide_type": "slide"
    }
   },
   "source": [
    "## Вспомним про  \\_\\_getattr__"
   ]
  },
  {
   "cell_type": "code",
   "execution_count": 2,
   "metadata": {},
   "outputs": [
    {
     "name": "stdout",
     "output_type": "stream",
     "text": [
      "1\n",
      "Test::__getattr__( b )\n",
      "42\n"
     ]
    }
   ],
   "source": [
    "class Test(object):\n",
    "    a = 1\n",
    "    def __getattr__(self, attr):\n",
    "        print('Test::__getattr__(', attr, ')')\n",
    "        return 42\n",
    "    \n",
    "print(Test().a)\n",
    "print(Test().b) "
   ]
  },
  {
   "cell_type": "markdown",
   "metadata": {
    "slideshow": {
     "slide_type": "slide"
    }
   },
   "source": [
    "### \\_\\_getattribute__"
   ]
  },
  {
   "cell_type": "code",
   "execution_count": 3,
   "metadata": {},
   "outputs": [
    {
     "name": "stdout",
     "output_type": "stream",
     "text": [
      "Test::__getattribute__( a )\n"
     ]
    }
   ],
   "source": [
    "class Test(object):\n",
    "    a = 1\n",
    "    def __getattribute__(self, attr):\n",
    "        print('Test::__getattribute__(', attr, ')')\n",
    "        return \n",
    "\n",
    "t = Test()\n",
    "t.a"
   ]
  },
  {
   "cell_type": "code",
   "execution_count": 6,
   "metadata": {
    "slideshow": {
     "slide_type": "subslide"
    }
   },
   "outputs": [
    {
     "name": "stdout",
     "output_type": "stream",
     "text": [
      "Test::__getattribute__( a )\n"
     ]
    },
    {
     "data": {
      "text/plain": [
       "1"
      ]
     },
     "execution_count": 6,
     "metadata": {},
     "output_type": "execute_result"
    }
   ],
   "source": [
    "class Test(object):\n",
    "    a = 1\n",
    "    def __getattribute__(self, attr):\n",
    "        print('Test::__getattribute__(', attr, ')')\n",
    "        return super().__getattribute__(attr)\n",
    "\n",
    "t = Test()\n",
    "t.a"
   ]
  },
  {
   "cell_type": "code",
   "execution_count": 7,
   "metadata": {
    "slideshow": {
     "slide_type": "subslide"
    }
   },
   "outputs": [
    {
     "name": "stdout",
     "output_type": "stream",
     "text": [
      "Test::__getattribute__( b )\n",
      "Test::__getattr__( b )\n"
     ]
    },
    {
     "data": {
      "text/plain": [
       "42"
      ]
     },
     "execution_count": 7,
     "metadata": {},
     "output_type": "execute_result"
    }
   ],
   "source": [
    "class Test(object):\n",
    "    a = 1\n",
    "    def __getattribute__(self, attr):\n",
    "        print('Test::__getattribute__(', attr, ')')\n",
    "        return object.__getattribute__(self, attr)\n",
    "    \n",
    "    def __getattr__(self, attr):\n",
    "        print('Test::__getattr__(', attr, ')')\n",
    "        return 42\n",
    "    \n",
    "t = Test()\n",
    "t.b"
   ]
  },
  {
   "cell_type": "code",
   "execution_count": 10,
   "metadata": {
    "slideshow": {
     "slide_type": "subslide"
    }
   },
   "outputs": [
    {
     "name": "stdout",
     "output_type": "stream",
     "text": [
      "Test::__getattribute__( a )\n"
     ]
    },
    {
     "data": {
      "text/plain": [
       "42"
      ]
     },
     "execution_count": 10,
     "metadata": {},
     "output_type": "execute_result"
    }
   ],
   "source": [
    "class Test(object):\n",
    "    a = 1\n",
    "    def __getattribute__(self, attr):\n",
    "        print('Test::__getattribute__(', attr, ')')\n",
    "        raise AttributeError()\n",
    "       # return object.__getattribute__(self, attr)\n",
    "    \n",
    "\n",
    "    def __getattr__(self, attr):\n",
    "#         raise AttributeError()\n",
    "        return 42\n",
    "    \n",
    "t = Test()\n",
    "t.a"
   ]
  },
  {
   "cell_type": "code",
   "execution_count": null,
   "metadata": {
    "collapsed": true,
    "slideshow": {
     "slide_type": "subslide"
    }
   },
   "outputs": [],
   "source": [
    "class object:\n",
    "    def __getattribute__(self, attr):\n",
    "        if hasattr(self, attr):\n",
    "            return getattr(self, attr)\n",
    "        \n",
    "        if hasattr(self, '__getattr__'):\n",
    "            return self.__getattr__(attr)"
   ]
  },
  {
   "cell_type": "code",
   "execution_count": 16,
   "metadata": {
    "slideshow": {
     "slide_type": "subslide"
    }
   },
   "outputs": [
    {
     "name": "stdout",
     "output_type": "stream",
     "text": [
      "500\n"
     ]
    },
    {
     "ename": "ValueError",
     "evalue": "Danger! High voltage!",
     "output_type": "error",
     "traceback": [
      "\u001b[0;31m---------------------------------------------------------------------------\u001b[0m",
      "\u001b[0;31mValueError\u001b[0m                                Traceback (most recent call last)",
      "\u001b[0;32m<ipython-input-16-ce1500c27d99>\u001b[0m in \u001b[0;36m<module>\u001b[0;34m()\u001b[0m\n\u001b[1;32m      5\u001b[0m \u001b[0mprint\u001b[0m\u001b[0;34m(\u001b[0m\u001b[0mp\u001b[0m\u001b[0;34m.\u001b[0m\u001b[0mvoltage\u001b[0m\u001b[0;34m)\u001b[0m\u001b[0;34m\u001b[0m\u001b[0m\n\u001b[1;32m      6\u001b[0m \u001b[0;34m\u001b[0m\u001b[0m\n\u001b[0;32m----> 7\u001b[0;31m \u001b[0mp\u001b[0m\u001b[0;34m.\u001b[0m\u001b[0mvoltage\u001b[0m \u001b[0;34m=\u001b[0m \u001b[0;36m2000\u001b[0m\u001b[0;34m\u001b[0m\u001b[0m\n\u001b[0m\u001b[1;32m      8\u001b[0m \u001b[0;34m\u001b[0m\u001b[0m\n",
      "\u001b[0;32m<ipython-input-14-74ae3822eead>\u001b[0m in \u001b[0;36mvoltage\u001b[0;34m(self, value)\u001b[0m\n\u001b[1;32m     10\u001b[0m     \u001b[0;32mdef\u001b[0m \u001b[0mvoltage\u001b[0m\u001b[0;34m(\u001b[0m\u001b[0mself\u001b[0m\u001b[0;34m,\u001b[0m \u001b[0mvalue\u001b[0m\u001b[0;34m)\u001b[0m\u001b[0;34m:\u001b[0m\u001b[0;34m\u001b[0m\u001b[0m\n\u001b[1;32m     11\u001b[0m         \u001b[0;32mif\u001b[0m \u001b[0mvalue\u001b[0m \u001b[0;34m>\u001b[0m \u001b[0;36m1000\u001b[0m\u001b[0;34m:\u001b[0m\u001b[0;34m\u001b[0m\u001b[0m\n\u001b[0;32m---> 12\u001b[0;31m             \u001b[0;32mraise\u001b[0m \u001b[0mValueError\u001b[0m\u001b[0;34m(\u001b[0m\u001b[0;34m'Danger! High voltage!'\u001b[0m\u001b[0;34m)\u001b[0m\u001b[0;34m\u001b[0m\u001b[0m\n\u001b[0m\u001b[1;32m     13\u001b[0m         \u001b[0mself\u001b[0m\u001b[0;34m.\u001b[0m\u001b[0m_voltage\u001b[0m \u001b[0;34m=\u001b[0m \u001b[0mvalue\u001b[0m\u001b[0;34m\u001b[0m\u001b[0m\n\u001b[1;32m     14\u001b[0m \u001b[0;34m\u001b[0m\u001b[0m\n",
      "\u001b[0;31mValueError\u001b[0m: Danger! High voltage!"
     ]
    }
   ],
   "source": [
    "p = Parrot()\n",
    "\n",
    "p.voltage = 500\n",
    "\n",
    "print(p.voltage)\n",
    "\n",
    "p.voltage = 2000\n",
    "    "
   ]
  },
  {
   "cell_type": "markdown",
   "metadata": {
    "slideshow": {
     "slide_type": "slide"
    }
   },
   "source": [
    "## Properties"
   ]
  },
  {
   "cell_type": "code",
   "execution_count": 12,
   "metadata": {
    "slideshow": {
     "slide_type": "-"
    }
   },
   "outputs": [
    {
     "name": "stdout",
     "output_type": "stream",
     "text": [
      "1000\n",
      "Danger! High voltage!\n"
     ]
    }
   ],
   "source": [
    "class Parrot(object):\n",
    "    def __init__(self):\n",
    "        self.__voltage = 1000\n",
    "    \n",
    "    def get_voltage(self):\n",
    "        return self.__voltage\n",
    "    \n",
    "    def set_voltage(self, value):\n",
    "        if value > 1000:\n",
    "            raise ValueError('Danger! High voltage!')\n",
    "        self.__voltage = value\n",
    "    \n",
    "merlin = Parrot()\n",
    "print(merlin.get_voltage())\n",
    "\n",
    "try:\n",
    "    merlin.set_voltage(2000)\n",
    "except ValueError as e:\n",
    "    print(e)"
   ]
  },
  {
   "cell_type": "code",
   "execution_count": 15,
   "metadata": {
    "slideshow": {
     "slide_type": "subslide"
    }
   },
   "outputs": [
    {
     "data": {
      "text/plain": [
       "1000"
      ]
     },
     "execution_count": 15,
     "metadata": {},
     "output_type": "execute_result"
    }
   ],
   "source": [
    "class Parrot(object):\n",
    "    def __init__(self):\n",
    "        self._voltage = 1000\n",
    "    def get_voltage(self):\n",
    "        return self._voltage\n",
    "    def set_voltage(self, value):\n",
    "        if value > 1000:\n",
    "            raise ValueError('Danger! High voltage!')\n",
    "        self._voltage = value\n",
    "    \n",
    "    voltage = property(get_voltage, set_voltage)\n",
    "\n",
    "p = Parrot()\n",
    "p.voltage = 1000\n",
    "p.voltage"
   ]
  },
  {
   "cell_type": "code",
   "execution_count": 17,
   "metadata": {
    "slideshow": {
     "slide_type": "subslide"
    }
   },
   "outputs": [
    {
     "data": {
      "text/plain": [
       "(int, property)"
      ]
     },
     "execution_count": 17,
     "metadata": {},
     "output_type": "execute_result"
    }
   ],
   "source": [
    "type(p.voltage), type(Parrot.voltage)"
   ]
  },
  {
   "cell_type": "markdown",
   "metadata": {
    "slideshow": {
     "slide_type": "subslide"
    }
   },
   "source": [
    "### More convenient"
   ]
  },
  {
   "cell_type": "code",
   "execution_count": 14,
   "metadata": {
    "slideshow": {
     "slide_type": "-"
    }
   },
   "outputs": [
    {
     "name": "stdout",
     "output_type": "stream",
     "text": [
      "500\n"
     ]
    }
   ],
   "source": [
    "class Parrot(object):\n",
    "    def __init__(self):\n",
    "        self._voltage = 1000\n",
    "    \n",
    "    @property\n",
    "    def voltage(self):\n",
    "        return self._voltage\n",
    "    \n",
    "    @voltage.setter\n",
    "    def voltage(self, value):\n",
    "        if value > 1000:\n",
    "            raise ValueError('Danger! High voltage!')\n",
    "        self._voltage = value\n",
    "\n",
    "\n",
    "p = Parrot()\n",
    "p.voltage = 500\n",
    "print(p.voltage)"
   ]
  },
  {
   "cell_type": "code",
   "execution_count": 5,
   "metadata": {
    "slideshow": {
     "slide_type": "subslide"
    }
   },
   "outputs": [
    {
     "data": {
      "text/plain": [
       "'John Doe'"
      ]
     },
     "execution_count": 5,
     "metadata": {},
     "output_type": "execute_result"
    }
   ],
   "source": [
    "class Person(object):\n",
    "    def __init__(self, name, surname):\n",
    "        self.name = name\n",
    "        self.surname = surname\n",
    "    \n",
    "    @property\n",
    "    def fullname(self):\n",
    "        return '{name} {surname}'.format(**self.__dict__)\n",
    "    \n",
    "\n",
    "p = Person('John', 'Doe')\n",
    "p.fullname"
   ]
  },
  {
   "cell_type": "code",
   "execution_count": 11,
   "metadata": {
    "slideshow": {
     "slide_type": "subslide"
    }
   },
   "outputs": [
    {
     "name": "stdout",
     "output_type": "stream",
     "text": [
      "1000 <class 'int'> <property object at 0x10d12aae8> <class 'property'>\n"
     ]
    }
   ],
   "source": [
    "class Parrot(object):\n",
    "    def __init__(self):\n",
    "        self._voltage = 1000\n",
    "    \n",
    "    @property\n",
    "    def voltage(self):\n",
    "        return self._voltage\n",
    "    \n",
    "    @voltage.setter\n",
    "    def voltage(self, value):\n",
    "        if value > 1000:\n",
    "            raise ValueError('Danger! High voltage!')\n",
    "        self._voltage = value\n",
    "\n",
    "\n",
    "p = Parrot()\n",
    "print(p.voltage, type(p.voltage), Parrot.voltage, type(Parrot.voltage))"
   ]
  },
  {
   "cell_type": "markdown",
   "metadata": {
    "slideshow": {
     "slide_type": "subslide"
    }
   },
   "source": [
    "### Properties get tedious"
   ]
  },
  {
   "cell_type": "code",
   "execution_count": 14,
   "metadata": {
    "collapsed": true
   },
   "outputs": [],
   "source": [
    "class Parrot(object):\n",
    "    def __init__(self):\n",
    "        self._voltage = 1000\n",
    "        self._dead    = 0\n",
    "    \n",
    "    @property\n",
    "    def voltage(self):\n",
    "        return self._voltage\n",
    "    \n",
    "    @voltage.setter\n",
    "    def voltage(self, value):\n",
    "        if value > 1000:\n",
    "            raise ValueError('Danger! High voltage!')\n",
    "        self._voltage = value\n",
    "    \n",
    "    @property\n",
    "    def dead(self):\n",
    "        return self._dead\n",
    "    \n",
    "    @dead.setter\n",
    "    def dead(self, value):\n",
    "        if value not in [True, False]:\n",
    "            raise ValueError('What did you even mean by that?')\n",
    "        self._dead = value\n",
    "\n",
    "\n",
    "p = Parrot()\n",
    "p.voltage = 1000\n",
    "p.dead  = 1"
   ]
  },
  {
   "cell_type": "markdown",
   "metadata": {
    "slideshow": {
     "slide_type": "slide"
    }
   },
   "source": [
    "### Descriptors"
   ]
  },
  {
   "cell_type": "code",
   "execution_count": 2,
   "metadata": {
    "collapsed": true,
    "slideshow": {
     "slide_type": "-"
    }
   },
   "outputs": [],
   "source": [
    "class Parrot(object):\n",
    "    voltage = Limited(1, 1000)\n",
    "    dead    = Limited(0, 1)"
   ]
  },
  {
   "cell_type": "code",
   "execution_count": 3,
   "metadata": {
    "collapsed": true,
    "slideshow": {
     "slide_type": "subslide"
    }
   },
   "outputs": [],
   "source": [
    "class Limited(object):\n",
    "    def __init__(self, lo, hi):\n",
    "        pass  \n",
    "    def __get__(self, instance, owner):\n",
    "        pass\n",
    "    def __set__(self, instance, value):\n",
    "        pass\n",
    "\n",
    "class Parrot(object):\n",
    "    voltage = Limited(1, 1000)\n",
    "    dead    = Limited(0, 1)\n",
    "\n",
    "charlie = Parrot()\n",
    "charlie.voltage = 1e2\n",
    "charlie.voltage"
   ]
  },
  {
   "cell_type": "code",
   "execution_count": 23,
   "metadata": {
    "slideshow": {
     "slide_type": "subslide"
    }
   },
   "outputs": [
    {
     "name": "stdout",
     "output_type": "stream",
     "text": [
      "__get__ (<__main__.Test object at 0x10c192da0>, <class '__main__.Test'>)\n",
      "__set__ (<__main__.Test object at 0x10c192da0>, 1)\n",
      "__get__ (None, <class '__main__.Test'>)\n",
      "__delete__ (<__main__.Test object at 0x10c192da0>,)\n"
     ]
    }
   ],
   "source": [
    "class Trace(object):\n",
    "    def __set__(self, *args):\n",
    "        print('__set__', args)\n",
    "    def __get__(self, *args):\n",
    "        print('__get__', args)\n",
    "        return 666\n",
    "    def __delete__(self, *args):\n",
    "        print('__delete__', args)\n",
    "\n",
    "class Test(object):\n",
    "    attr = Trace()\n",
    "        \n",
    "t = Test()\n",
    "t.attr\n",
    "t.attr = 1\n",
    "Test.attr\n",
    "del t.attr"
   ]
  },
  {
   "cell_type": "code",
   "execution_count": 28,
   "metadata": {
    "slideshow": {
     "slide_type": "subslide"
    }
   },
   "outputs": [
    {
     "name": "stdout",
     "output_type": "stream",
     "text": [
      "100.0\n",
      "None\n"
     ]
    }
   ],
   "source": [
    "class Limited(object):\n",
    "    def __init__(self, lo, hi, label):\n",
    "        self.lo = lo\n",
    "        self.hi = hi\n",
    "        self.label = label\n",
    "        \n",
    "    def __get__(self, instance, owner):\n",
    "        if instance is None:\n",
    "            return self\n",
    "        return instance.__dict__.get(self.label)\n",
    "    \n",
    "    def __set__(self, instance, value):\n",
    "        if not (self.lo <= value <= self.hi) :\n",
    "            raise ValueError(\"Out of Bounds: %s\" % value)\n",
    "        instance.__dict__[self.label] = value\n",
    "    \n",
    "    def __delete__(self, instance):\n",
    "        if self.label in instance.__dict__:\n",
    "            del instance.__dict__[self.label]\n",
    "\n",
    "class Parrot(object):\n",
    "    voltage = Limited(1, 1000, 'voltage')\n",
    " \n",
    "charlie = Parrot()\n",
    "charlie.voltage = 1e2\n",
    "print(charlie.voltage)\n",
    "del charlie.voltage\n",
    "print(charlie.voltage)"
   ]
  },
  {
   "cell_type": "code",
   "execution_count": 29,
   "metadata": {
    "slideshow": {
     "slide_type": "subslide"
    }
   },
   "outputs": [
    {
     "name": "stdout",
     "output_type": "stream",
     "text": [
      "5\n",
      "4\n"
     ]
    }
   ],
   "source": [
    "class Descriptor(object):\n",
    "    def __init__(self, label):\n",
    "        self.label = label\n",
    "    def __get__(self, instance, owner):\n",
    "#         print('__get__', instance, owner)\n",
    "        return instance.__dict__.get(self.label)\n",
    "    def __set__(self, instance, value):\n",
    "#         print('__set__')\n",
    "        instance.__dict__[self.label] = value\n",
    "\n",
    "class Foo(object):\n",
    "    x = Descriptor('y')\n",
    "    \n",
    "f = Foo()\n",
    "f.x = 5\n",
    "print(f.x)\n",
    "\n",
    "f.y = 4\n",
    "print(f.x)"
   ]
  },
  {
   "cell_type": "markdown",
   "metadata": {},
   "source": [
    "### Non-data descriptors"
   ]
  },
  {
   "cell_type": "code",
   "execution_count": 30,
   "metadata": {
    "slideshow": {
     "slide_type": "subslide"
    }
   },
   "outputs": [
    {
     "name": "stdout",
     "output_type": "stream",
     "text": [
      "2 42\n"
     ]
    }
   ],
   "source": [
    "class TestDescr(object):\n",
    "    def __get__(self, inst, owner):\n",
    "        return 42\n",
    "    \n",
    "class BrokenParrot(object):\n",
    "    x = TestDescr()\n",
    "    \n",
    "    def set_x(self):\n",
    "        self.x = 2\n",
    "        \n",
    "p = BrokenParrot()\n",
    "p.x\n",
    "p.set_x()\n",
    "print(p.x, BrokenParrot.x)"
   ]
  },
  {
   "cell_type": "markdown",
   "metadata": {},
   "source": [
    "### WeakKeyDictionary"
   ]
  },
  {
   "cell_type": "code",
   "execution_count": 19,
   "metadata": {
    "slideshow": {
     "slide_type": "subslide"
    }
   },
   "outputs": [
    {
     "name": "stdout",
     "output_type": "stream",
     "text": [
      "100.0\n",
      "None\n"
     ]
    }
   ],
   "source": [
    "from weakref import WeakKeyDictionary\n",
    "\n",
    "class Limited(object):\n",
    "    def __init__(self, lo, hi):\n",
    "        self.lo = lo\n",
    "        self.hi = hi\n",
    "        self.data = WeakKeyDictionary()\n",
    "        \n",
    "    def __get__(self, instance, owner):\n",
    "        return self.data.get(instance)\n",
    "    \n",
    "    def __set__(self, instance, value):\n",
    "        if not (self.lo <= value <= self.hi) :\n",
    "            raise ValueError(\"Out of Bounds: %s\" % value)\n",
    "        self.data[instance] = value\n",
    "    \n",
    "    def __delete__(self, instance):\n",
    "        if instance in self.data:\n",
    "            del self.data[instance]\n",
    "        \n",
    "\n",
    "class Parrot(object):\n",
    "    voltage = Limited(1, 1000)\n",
    "\n",
    "charlie = Parrot()\n",
    "charlie.voltage = 1e2\n",
    "print(charlie.voltage)\n",
    "\n",
    "del charlie.voltage\n",
    "print(charlie.voltage)"
   ]
  },
  {
   "cell_type": "markdown",
   "metadata": {},
   "source": [
    "### CallbackProperty"
   ]
  },
  {
   "cell_type": "code",
   "execution_count": 91,
   "metadata": {
    "slideshow": {
     "slide_type": "subslide"
    }
   },
   "outputs": [
    {
     "name": "stdout",
     "output_type": "stream",
     "text": [
      "Balance is 5000\n",
      "You are now poor\n",
      "Balance is 99\n"
     ]
    }
   ],
   "source": [
    "class CallbackProperty(object):\n",
    "    def __init__(self, default=None):\n",
    "        self.data = WeakKeyDictionary()\n",
    "        self.default = default\n",
    "        self.callbacks = WeakKeyDictionary()\n",
    "        \n",
    "    def __get__(self, instance, owner):\n",
    "        if instance is None:\n",
    "            return self        \n",
    "        return self.data.get(instance, self.default)\n",
    "    \n",
    "    def __set__(self, instance, value):\n",
    "        for callback in self.callbacks.get(instance, []):\n",
    "            callback(value)\n",
    "        self.data[instance] = value\n",
    "        \n",
    "    def add_callback(self, instance, callback):\n",
    "        if instance not in self.callbacks:\n",
    "            self.callbacks[instance] = []\n",
    "        self.callbacks[instance].append(callback)\n",
    "        \n",
    "class BankAccount(object):\n",
    "    balance = CallbackProperty(0)\n",
    "    \n",
    "def low_balance_warning(value):\n",
    "    if value < 100:\n",
    "        print(\"You are now poor\")\n",
    "                \n",
    "ba = BankAccount()\n",
    "BankAccount.balance.add_callback(ba, low_balance_warning)\n",
    "\n",
    "ba.balance = 5000\n",
    "print(\"Balance is %s\" % ba.balance)\n",
    "ba.balance = 99\n",
    "print(\"Balance is %s\" % ba.balance)"
   ]
  },
  {
   "cell_type": "code",
   "execution_count": 73,
   "metadata": {
    "collapsed": true,
    "slideshow": {
     "slide_type": "subslide"
    }
   },
   "outputs": [],
   "source": [
    "class Property(object):\n",
    "    def __init__(self, fget=None, fset=None, fdel=None, doc=None):\n",
    "        self.fget = fget\n",
    "        self.fset = fset\n",
    "        self.fdel = fdel\n",
    "        self.__doc__ = doc\n",
    "        \n",
    "    def __get__(self, obj, objtype=None):\n",
    "        if obj is None:\n",
    "            return self\n",
    "        \n",
    "        if self.fget is None:\n",
    "            raise AttributeError(\"unreadable attribute\")\n",
    "        return self.fget(obj)\n",
    "    \n",
    "    def __set__(self, obj, value):\n",
    "        if self.fset is None:\n",
    "            raise AttributeError(\"can't set attribute\")\n",
    "        \n",
    "        self.fset(obj, value)\n",
    "    def __delete__(self, obj):\n",
    "        if self.fdel is None:\n",
    "            raise AttributeError(\"can't delete attribute\")\n",
    "        \n",
    "        self.fdel(obj)\n",
    "\n",
    "    def getter(self, fget):\n",
    "        return type(self)(fget, self.fset, self.fdel, self.__doc__)\n",
    "\n",
    "    def setter(self, fset):\n",
    "        return type(self)(self.fget, fset, self.fdel, self.__doc__)\n",
    "\n",
    "    def deleter(self, fdel):\n",
    "        return type(self)(self.fget, self.fset, fdel, self.__doc__)"
   ]
  },
  {
   "cell_type": "markdown",
   "metadata": {
    "slideshow": {
     "slide_type": "slide"
    }
   },
   "source": [
    "### Метаклассы"
   ]
  },
  {
   "cell_type": "code",
   "execution_count": 33,
   "metadata": {
    "slideshow": {
     "slide_type": "slide"
    }
   },
   "outputs": [
    {
     "data": {
      "text/plain": [
       "(__main__.Cls, type, type)"
      ]
     },
     "execution_count": 33,
     "metadata": {},
     "output_type": "execute_result"
    }
   ],
   "source": [
    "class Cls(object): \n",
    "    pass\n",
    "\n",
    "c = Cls()\n",
    "type(c), type(Cls), type(type)"
   ]
  },
  {
   "cell_type": "code",
   "execution_count": 53,
   "metadata": {
    "scrolled": true,
    "slideshow": {
     "slide_type": "subslide"
    }
   },
   "outputs": [
    {
     "name": "stdout",
     "output_type": "stream",
     "text": [
      "42 <__main__.DeepThought object at 0x10d1f1b38> <class '__main__.DeepThought'> <class 'type'>\n"
     ]
    }
   ],
   "source": [
    "def class_factory(name, bases, **kwargs):\n",
    "    return type(name, bases, kwargs)\n",
    "\n",
    "F = class_factory('DeepThought', (object, ), ans=42)\n",
    "f = F()\n",
    "print(f.ans, f, type(f), type(F)) "
   ]
  },
  {
   "cell_type": "code",
   "execution_count": 77,
   "metadata": {
    "slideshow": {
     "slide_type": "subslide"
    }
   },
   "outputs": [
    {
     "name": "stdout",
     "output_type": "stream",
     "text": [
      "42 <__main__.DeepThought object at 0x10d0f8e48> <class '__main__.DeepThought'> <class '__main__.Meta'>\n"
     ]
    }
   ],
   "source": [
    "class Meta(type):\n",
    "    pass\n",
    "\n",
    "def class_factory(name, bases, **kwargs):\n",
    "    return Meta(name, bases, kwargs)\n",
    "\n",
    "F = class_factory('DeepThought', (object, ), ans=42)\n",
    "f = F()\n",
    "print(f.ans, f, type(f), type(F))"
   ]
  },
  {
   "cell_type": "code",
   "execution_count": 43,
   "metadata": {
    "slideshow": {
     "slide_type": "subslide"
    }
   },
   "outputs": [
    {
     "name": "stdout",
     "output_type": "stream",
     "text": [
      "42 <__main__.DeepThought object at 0x10eca70f0> <class '__main__.DeepThought'> <class '__main__.Meta'>\n",
      "qwerty\n"
     ]
    }
   ],
   "source": [
    "class Meta(type):\n",
    "    def __init__(cls, name, base, attrs):\n",
    "        super().__init__(name, base, attrs)\n",
    "        cls.hola = lambda self: 'qwerty'\n",
    "\n",
    "def class_factory(name, bases, **kwargs):\n",
    "    return Meta(name, bases, kwargs)\n",
    " \n",
    "F = class_factory('DeepThought', (object, ), ans=42)\n",
    "f = F()\n",
    "print(f.ans, f, type(f), type(F))\n",
    "print(f.hola())"
   ]
  },
  {
   "cell_type": "code",
   "execution_count": 34,
   "metadata": {
    "slideshow": {
     "slide_type": "subslide"
    }
   },
   "outputs": [
    {
     "name": "stdout",
     "output_type": "stream",
     "text": [
      "Meta.__init__(cls=<class '__main__.DeepThought'>, name='DeepThought', bases=(<class 'object'>,), attrs=[ans])\n",
      "********************\n",
      "Meta.__call__(cls=<class '__main__.DeepThought'>, args=())\n",
      "42 <__main__.DeepThought object at 0x10c0c3860> <class '__main__.DeepThought'> <class '__main__.Meta'>\n"
     ]
    }
   ],
   "source": [
    "class Meta(type):\n",
    "#     def __new__(mcs, name, bases, attrs, **kwargs):\n",
    "#         print('Meta.__new__(mcs=%s, name=%r, bases=%s, attrs=[%s])' % (mcs, name, bases, ', '.join(attrs)))\n",
    "#         return super().__new__(mcs, name, bases, attrs)\n",
    "\n",
    "    def __init__(cls, name, bases, attrs, **kwargs):\n",
    "        print('Meta.__init__(cls=%s, name=%r, bases=%s, attrs=[%s])' % (cls, name, bases, ', '.join(attrs)))\n",
    "        return super().__init__(name, bases, attrs)\n",
    "\n",
    "    def __call__(cls, *args, **kwargs):\n",
    "        print('Meta.__call__(cls=%s, args=%s)' % (cls, args))\n",
    "        return super().__call__(*args, **kwargs)\n",
    "\n",
    "def class_factory(name, bases, **kwargs):\n",
    "    return Meta(name, bases, kwargs)\n",
    "\n",
    "F = class_factory('DeepThought', (object, ), ans=42)\n",
    "print('*' * 20) \n",
    "f = F() \n",
    "print(f.ans, f, type(f), type(F))"
   ]
  },
  {
   "cell_type": "code",
   "execution_count": 25,
   "metadata": {
    "slideshow": {
     "slide_type": "subslide"
    }
   },
   "outputs": [
    {
     "name": "stdout",
     "output_type": "stream",
     "text": [
      "qwerty\n"
     ]
    }
   ],
   "source": [
    "class Meta(type):\n",
    "    def __init__(cls, name, base, attrs):\n",
    "        super().__init__(name, base, attrs)\n",
    "        cls.f = lambda self: 'qwerty'\n",
    "        \n",
    "\n",
    "class A(object, metaclass=Meta):\n",
    "    pass\n",
    "\n",
    "a = A()\n",
    "print(a.f())"
   ]
  },
  {
   "cell_type": "code",
   "execution_count": 26,
   "metadata": {
    "slideshow": {
     "slide_type": "subslide"
    }
   },
   "outputs": [
    {
     "name": "stdout",
     "output_type": "stream",
     "text": [
      "A (<class 'object'>,) {'__module__': '__main__', '__qualname__': 'A'}\n"
     ]
    }
   ],
   "source": [
    "class A(object, metaclass=print):\n",
    "    pass\n"
   ]
  },
  {
   "cell_type": "code",
   "execution_count": 35,
   "metadata": {
    "slideshow": {
     "slide_type": "subslide"
    }
   },
   "outputs": [
    {
     "name": "stdout",
     "output_type": "stream",
     "text": [
      "hello\n"
     ]
    },
    {
     "ename": "AttributeError",
     "evalue": "'Cls' object has no attribute 'f'",
     "output_type": "error",
     "traceback": [
      "\u001b[0;31m---------------------------------------------------------------------------\u001b[0m",
      "\u001b[0;31mAttributeError\u001b[0m                            Traceback (most recent call last)",
      "\u001b[0;32m<ipython-input-35-621fda41e026>\u001b[0m in \u001b[0;36m<module>\u001b[0;34m()\u001b[0m\n\u001b[1;32m      8\u001b[0m \u001b[0minst\u001b[0m \u001b[0;34m=\u001b[0m \u001b[0mCls\u001b[0m\u001b[0;34m(\u001b[0m\u001b[0;34m)\u001b[0m\u001b[0;34m\u001b[0m\u001b[0m\n\u001b[1;32m      9\u001b[0m \u001b[0mCls\u001b[0m\u001b[0;34m.\u001b[0m\u001b[0mf\u001b[0m\u001b[0;34m(\u001b[0m\u001b[0;34m)\u001b[0m\u001b[0;34m\u001b[0m\u001b[0m\n\u001b[0;32m---> 10\u001b[0;31m \u001b[0minst\u001b[0m\u001b[0;34m.\u001b[0m\u001b[0mf\u001b[0m\u001b[0;34m(\u001b[0m\u001b[0;34m)\u001b[0m\u001b[0;34m\u001b[0m\u001b[0m\n\u001b[0m",
      "\u001b[0;31mAttributeError\u001b[0m: 'Cls' object has no attribute 'f'"
     ]
    }
   ],
   "source": [
    "class M(type):\n",
    "    def f(cls): \n",
    "        print('hello')\n",
    "    \n",
    "class Cls(object, metaclass=M):\n",
    "    pass\n",
    "    \n",
    "inst = Cls()\n",
    "Cls.f()\n",
    "inst.f()"
   ]
  },
  {
   "cell_type": "code",
   "execution_count": 36,
   "metadata": {
    "slideshow": {
     "slide_type": "subslide"
    }
   },
   "outputs": [
    {
     "name": "stdout",
     "output_type": "stream",
     "text": [
      "False\n",
      "True\n",
      "bop\n"
     ]
    }
   ],
   "source": [
    "def upper_attr(future_class_name, future_class_parents, future_class_attr):\n",
    "    uppercase_attr = {}\n",
    "    for name, val in future_class_attr.items():\n",
    "        if not name.startswith('__'):\n",
    "            uppercase_attr[name.upper()] = val\n",
    "        else:\n",
    "            uppercase_attr[name] = val\n",
    "    return type(future_class_name, future_class_parents, uppercase_attr)\n",
    "\n",
    "\n",
    "class Foo(metaclass=upper_attr): \n",
    "    bip = 'bop'\n",
    "\n",
    "f = Foo()\n",
    "print(hasattr(Foo, 'bip'))\n",
    "print(hasattr(Foo, 'BIP'))\n",
    "print(f.BIP)"
   ]
  },
  {
   "cell_type": "code",
   "execution_count": 138,
   "metadata": {
    "slideshow": {
     "slide_type": "slide"
    }
   },
   "outputs": [
    {
     "name": "stdout",
     "output_type": "stream",
     "text": [
      "__set__\n",
      "__get__. Label = x\n",
      "10\n"
     ]
    }
   ],
   "source": [
    "class Descriptor(object):\n",
    "    def __init__(self):\n",
    "        #notice we aren't setting the label here\n",
    "        self.label = None\n",
    "        \n",
    "    def __get__(self, instance, owner):\n",
    "        print('__get__. Label = {}'.format(self.label))\n",
    "        return instance.__dict__.get(self.label, None)\n",
    "    \n",
    "    def __set__(self, instance, value):\n",
    "        print('__set__')\n",
    "        instance.__dict__[self.label] = value\n",
    "\n",
    "        \n",
    "class DescriptorOwner(type):\n",
    "    def __new__(cls, name, bases, attrs):\n",
    "        for attr_name, attr_value in attrs.items():\n",
    "            if isinstance(attr_value, Descriptor):\n",
    "                attr_value.label = attr_name\n",
    "        return super().__new__(cls, name, bases, attrs)\n",
    "\n",
    "        \n",
    "class Foo(object, metaclass=DescriptorOwner):\n",
    "    x = Descriptor()\n",
    "    \n",
    "f = Foo()\n",
    "f.x = 10\n",
    "print(f.x)"
   ]
  },
  {
   "cell_type": "code",
   "execution_count": 49,
   "metadata": {
    "collapsed": true,
    "slideshow": {
     "slide_type": "slide"
    }
   },
   "outputs": [],
   "source": [
    "import re as _re\n",
    "class _TemplateMetaclass(type):\n",
    "    pattern = r\"\"\"\n",
    "    %(delim)s(?:\n",
    "      (?P<escaped>%(delim)s) |   # Escape sequence of two delimiters\n",
    "      (?P<named>%(id)s)      |   # delimiter and a Python identifier\n",
    "      {(?P<braced>%(id)s)}   |   # delimiter and a braced identifier\n",
    "      (?P<invalid>)              # Other ill-formed delimiter exprs\n",
    "    )\n",
    "    \"\"\"\n",
    "\n",
    "    def __init__(cls, name, bases, dct):\n",
    "        super(_TemplateMetaclass, cls).__init__(name, bases, dct)\n",
    "        if 'pattern' in dct:\n",
    "            pattern = cls.pattern\n",
    "        else:\n",
    "            pattern = _TemplateMetaclass.pattern % {\n",
    "                'delim' : _re.escape(cls.delimiter),\n",
    "                'id'    : cls.idpattern,\n",
    "                }\n",
    "        cls.pattern = _re.compile(pattern, _re.IGNORECASE | _re.VERBOSE)"
   ]
  },
  {
   "cell_type": "code",
   "execution_count": 51,
   "metadata": {
    "slideshow": {
     "slide_type": "subslide"
    }
   },
   "outputs": [
    {
     "data": {
      "text/plain": [
       "'two is 2'"
      ]
     },
     "execution_count": 51,
     "metadata": {},
     "output_type": "execute_result"
    }
   ],
   "source": [
    "class Template(metaclass=_TemplateMetaclass):\n",
    "    \"\"\"A string class for supporting $-substitutions.\"\"\"\n",
    "    delimiter = '$'\n",
    "    idpattern = r'[_a-z][_a-z0-9]*'\n",
    " \n",
    "    def __init__(self, template):\n",
    "        self.template = template\n",
    "\n",
    "\n",
    "from string import Template \n",
    "Template(\"$def is $value\").substitute(**{'def': 'two', 'value': '2'})"
   ]
  }
 ],
 "metadata": {
  "celltoolbar": "Slideshow",
  "kernelspec": {
   "display_name": "Python 3",
   "language": "python",
   "name": "python3"
  },
  "language_info": {
   "codemirror_mode": {
    "name": "ipython",
    "version": 3
   },
   "file_extension": ".py",
   "mimetype": "text/x-python",
   "name": "python",
   "nbconvert_exporter": "python",
   "pygments_lexer": "ipython3",
   "version": "3.6.6"
  }
 },
 "nbformat": 4,
 "nbformat_minor": 1
}
