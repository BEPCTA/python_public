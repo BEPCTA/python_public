{
 "cells": [
  {
   "cell_type": "markdown",
   "metadata": {
    "slideshow": {
     "slide_type": "slide"
    }
   },
   "source": [
    "<center>\n",
    "<img src=\"https://upload.wikimedia.org/wikipedia/commons/a/a8/%D0%9B%D0%9E%D0%93%D0%9E_%D0%A8%D0%90%D0%94.png\" width=300px/>\n",
    "<br />\n",
    "<h1>Python, Функции, Ввод-Вывод</h1>\n",
    "<br />\n",
    "<h4>2018</h4> </center>"
   ]
  },
  {
   "cell_type": "code",
   "execution_count": 5,
   "metadata": {
    "slideshow": {
     "slide_type": "slide"
    }
   },
   "outputs": [
    {
     "data": {
      "text/plain": [
       "6"
      ]
     },
     "execution_count": 5,
     "metadata": {},
     "output_type": "execute_result"
    }
   ],
   "source": [
    "def add(x: float, y: float):\n",
    "    return (x + y) \n",
    "\n",
    "mean(2, 4)"
   ]
  },
  {
   "cell_type": "code",
   "execution_count": 32,
   "metadata": {
    "slideshow": {
     "slide_type": "subslide"
    }
   },
   "outputs": [
    {
     "data": {
      "text/plain": [
       "4.0"
      ]
     },
     "execution_count": 32,
     "metadata": {},
     "output_type": "execute_result"
    }
   ],
   "source": [
    "def average(x: float, y: float):\n",
    "    \"\"\"Returns mean of two numbers\"\"\"\n",
    "    return (x + y) / 2\n",
    "\n",
    "mean(3, 5)"
   ]
  },
  {
   "cell_type": "code",
   "execution_count": 20,
   "metadata": {},
   "outputs": [
    {
     "name": "stdout",
     "output_type": "stream",
     "text": [
      "Help on function mean in module __main__:\n",
      "\n",
      "mean(x:float, y:float)\n",
      "    Returns mean of two numbers\n",
      "\n"
     ]
    }
   ],
   "source": [
    "help(mean)"
   ]
  },
  {
   "cell_type": "markdown",
   "metadata": {
    "slideshow": {
     "slide_type": "slide"
    }
   },
   "source": [
    "### Аргументы с дефолтными значениями"
   ]
  },
  {
   "cell_type": "code",
   "execution_count": 36,
   "metadata": {
    "slideshow": {
     "slide_type": "-"
    }
   },
   "outputs": [
    {
     "name": "stdout",
     "output_type": "stream",
     "text": [
      "7.5\n",
      "Help on function bounded_average in module __main__:\n",
      "\n",
      "bounded_average(x:float, y:float, lo:float=2)\n",
      "    Returns bounded mean of two numbers\n",
      "\n"
     ]
    }
   ],
   "source": [
    "def bounded_average(x:float, y:float, lo:float=2):\n",
    "    \"\"\"Returns bounded mean of two numbers\"\"\"\n",
    "    x = max(x, lo)\n",
    "    y = max(y, lo)\n",
    "    return (x + y) / 2\n",
    "\n",
    "print(bounded_average(3, 10, 5))\n",
    "help(bounded_average)"
   ]
  },
  {
   "cell_type": "code",
   "execution_count": 37,
   "metadata": {
    "slideshow": {
     "slide_type": "subslide"
    }
   },
   "outputs": [
    {
     "name": "stdout",
     "output_type": "stream",
     "text": [
      "7.5\n",
      "7.5\n",
      "7.5\n"
     ]
    }
   ],
   "source": [
    "print(bounded_average(3, 10, lo=5))\n",
    "print(bounded_average(x=3, y=10, lo=5))\n",
    "print(bounded_average(lo=3, x=10, y=5))"
   ]
  },
  {
   "cell_type": "markdown",
   "metadata": {},
   "source": [
    "### Опциональные аргументы"
   ]
  },
  {
   "cell_type": "code",
   "execution_count": 41,
   "metadata": {
    "slideshow": {
     "slide_type": "slide"
    }
   },
   "outputs": [
    {
     "name": "stdout",
     "output_type": "stream",
     "text": [
      "5.5\n"
     ]
    }
   ],
   "source": [
    "def bounded_average(x:float, y:float, lo:float=None, hi:float=None):\n",
    "    \"\"\"Returns bounded mean of two numbers\"\"\"\n",
    "    if lo:\n",
    "        x = max(x, lo)\n",
    "        y = max(y, lo)\n",
    "    if hi:\n",
    "        x = min(x, hi)\n",
    "        y = min(y, hi)\n",
    "    return (x + y) / 2\n",
    "\n",
    "print(bounded_average(3, 10, hi=8))"
   ]
  },
  {
   "cell_type": "code",
   "execution_count": 42,
   "metadata": {},
   "outputs": [
    {
     "name": "stdout",
     "output_type": "stream",
     "text": [
      "2.0\n"
     ]
    }
   ],
   "source": [
    "print(bounded_average(3, 10, 2, 2))"
   ]
  },
  {
   "cell_type": "code",
   "execution_count": 43,
   "metadata": {
    "slideshow": {
     "slide_type": "subslide"
    }
   },
   "outputs": [
    {
     "ename": "TypeError",
     "evalue": "bounded_average() takes 2 positional arguments but 4 were given",
     "output_type": "error",
     "traceback": [
      "\u001b[0;31m---------------------------------------------------------------------------\u001b[0m",
      "\u001b[0;31mTypeError\u001b[0m                                 Traceback (most recent call last)",
      "\u001b[0;32m<ipython-input-43-238f4182c9fc>\u001b[0m in \u001b[0;36m<module>\u001b[0;34m()\u001b[0m\n\u001b[1;32m      9\u001b[0m     \u001b[0;32mreturn\u001b[0m \u001b[0;34m(\u001b[0m\u001b[0mx\u001b[0m \u001b[0;34m+\u001b[0m \u001b[0my\u001b[0m\u001b[0;34m)\u001b[0m \u001b[0;34m/\u001b[0m \u001b[0;36m2\u001b[0m\u001b[0;34m\u001b[0m\u001b[0m\n\u001b[1;32m     10\u001b[0m \u001b[0;34m\u001b[0m\u001b[0m\n\u001b[0;32m---> 11\u001b[0;31m \u001b[0mprint\u001b[0m\u001b[0;34m(\u001b[0m\u001b[0mbounded_average\u001b[0m\u001b[0;34m(\u001b[0m\u001b[0;36m3\u001b[0m\u001b[0;34m,\u001b[0m \u001b[0;36m10\u001b[0m\u001b[0;34m,\u001b[0m \u001b[0;36m4\u001b[0m\u001b[0;34m,\u001b[0m \u001b[0;36m8\u001b[0m\u001b[0;34m)\u001b[0m\u001b[0;34m)\u001b[0m\u001b[0;34m\u001b[0m\u001b[0m\n\u001b[0m",
      "\u001b[0;31mTypeError\u001b[0m: bounded_average() takes 2 positional arguments but 4 were given"
     ]
    }
   ],
   "source": [
    "def bounded_average(x, y, *, lo=None, hi=None):\n",
    "    \"\"\"Returns bounded mean of two numbers\"\"\"\n",
    "    if lo:\n",
    "        x = max(x, lo)\n",
    "        y = max(y, lo)\n",
    "    if hi:\n",
    "        x = min(x, hi)\n",
    "        y = min(y, hi)\n",
    "    return (x + y) / 2\n",
    "\n",
    "print(bounded_average(3, 10, 4, 8))"
   ]
  },
  {
   "cell_type": "code",
   "execution_count": 49,
   "metadata": {
    "slideshow": {
     "slide_type": "slide"
    }
   },
   "outputs": [
    {
     "name": "stdout",
     "output_type": "stream",
     "text": [
      "2\n"
     ]
    }
   ],
   "source": [
    "from typing import Any\n",
    "\n",
    "def type_aware_average(x:Any , y:Any):\n",
    "    \"\"\"Returns mean of two numbers calculated with respect to their type\"\"\"\n",
    "    if isinstance(x, int) and isinstance(y, int):\n",
    "        return (x + y) // 2\n",
    "    \n",
    "    return (x + y) / 2\n",
    "\n",
    "print(type_aware_average(2, 3))"
   ]
  },
  {
   "cell_type": "code",
   "execution_count": 51,
   "metadata": {
    "slideshow": {
     "slide_type": "slide"
    }
   },
   "outputs": [
    {
     "data": {
      "text/plain": [
       "6.25"
      ]
     },
     "execution_count": 51,
     "metadata": {},
     "output_type": "execute_result"
    }
   ],
   "source": [
    "from typing import List\n",
    "\n",
    "def list_average(args:List[float], lo:float=None, hi:float=None):\n",
    "    \"\"\"Returns bounded mean of list of numbers\"\"\"\n",
    "    total = 0.0\n",
    "    count = 0.0\n",
    "    for arg in args:\n",
    "        arg = max(arg, lo) if lo else arg\n",
    "        total += min(arg, hi) if hi else arg\n",
    "        count += 1\n",
    "\n",
    "    return total / count\n",
    "\n",
    "list_mean([3, 5, 7, 10])"
   ]
  },
  {
   "cell_type": "markdown",
   "metadata": {
    "slideshow": {
     "slide_type": "slide"
    }
   },
   "source": [
    "## *args"
   ]
  },
  {
   "cell_type": "code",
   "execution_count": 55,
   "metadata": {
    "slideshow": {
     "slide_type": "-"
    }
   },
   "outputs": [
    {
     "data": {
      "text/plain": [
       "6.75"
      ]
     },
     "execution_count": 55,
     "metadata": {},
     "output_type": "execute_result"
    }
   ],
   "source": [
    "def average(*args:float, lo:float=None, hi:float=None):\n",
    "    \"\"\"Returns bounded mean of numbers\"\"\"\n",
    "    total = 0.0\n",
    "    count = 0.0\n",
    "    for arg in args:\n",
    "        arg = max(arg, lo) if lo is not None else arg\n",
    "        total += min(arg, hi) if hi is not None else arg\n",
    "        count += 1\n",
    "\n",
    "    return total / count\n",
    "\n",
    "average(3, 5, 7, 10, lo=5)"
   ]
  },
  {
   "cell_type": "markdown",
   "metadata": {
    "slideshow": {
     "slide_type": "subslide"
    }
   },
   "source": [
    "### И в обратную сторону"
   ]
  },
  {
   "cell_type": "code",
   "execution_count": 62,
   "metadata": {},
   "outputs": [
    {
     "data": {
      "text/plain": [
       "28.333333333333332"
      ]
     },
     "execution_count": 62,
     "metadata": {},
     "output_type": "execute_result"
    }
   ],
   "source": [
    "data = [45, 28, 12]\n",
    "\n",
    "average(*data)"
   ]
  },
  {
   "cell_type": "code",
   "execution_count": 68,
   "metadata": {
    "slideshow": {
     "slide_type": "subslide"
    }
   },
   "outputs": [
    {
     "data": {
      "text/plain": [
       "3.0"
      ]
     },
     "execution_count": 68,
     "metadata": {},
     "output_type": "execute_result"
    }
   ],
   "source": [
    "\n",
    "def apply(func, *args):\n",
    "    return func(*args)\n",
    "\n",
    "apply(average, 1, 2, 3, 4, 5)"
   ]
  },
  {
   "cell_type": "markdown",
   "metadata": {
    "slideshow": {
     "slide_type": "slide"
    }
   },
   "source": [
    "## **kwargs"
   ]
  },
  {
   "cell_type": "code",
   "execution_count": 69,
   "metadata": {
    "slideshow": {
     "slide_type": "-"
    }
   },
   "outputs": [
    {
     "data": {
      "text/plain": [
       "6.75"
      ]
     },
     "execution_count": 69,
     "metadata": {},
     "output_type": "execute_result"
    }
   ],
   "source": [
    "def average(*args:float, **kwargs):\n",
    "    \"\"\"Returns bounded mean of arbitary amount of numbers\"\"\"\n",
    "    lo = kwargs.get('lo')\n",
    "    hi = kwargs.get('hi')\n",
    "\n",
    "    total = 0.0\n",
    "    count = 0.0\n",
    "    \n",
    "    for arg in args:\n",
    "        arg = max(arg, lo) if lo else arg\n",
    "        total += min(arg, hi) if hi else arg\n",
    "        count += 1\n",
    "\n",
    "    return total / count\n",
    "\n",
    "average(3, 5, 7, 10, lo = 5)"
   ]
  },
  {
   "cell_type": "code",
   "execution_count": 65,
   "metadata": {
    "slideshow": {
     "slide_type": "subslide"
    }
   },
   "outputs": [
    {
     "data": {
      "text/plain": [
       "6.75"
      ]
     },
     "execution_count": 65,
     "metadata": {},
     "output_type": "execute_result"
    }
   ],
   "source": [
    "average(3, 5, 7, 10, **{'lo': 5})"
   ]
  },
  {
   "cell_type": "markdown",
   "metadata": {
    "slideshow": {
     "slide_type": "slide"
    }
   },
   "source": [
    "### Пример"
   ]
  },
  {
   "cell_type": "code",
   "execution_count": 70,
   "metadata": {
    "slideshow": {
     "slide_type": "-"
    }
   },
   "outputs": [
    {
     "name": "stdout",
     "output_type": "stream",
     "text": [
      "<function average at 0x10c2e21e0> is called with arguments : (1, 2, 3, 4) {'lo': 2}\n"
     ]
    },
    {
     "data": {
      "text/plain": [
       "2.75"
      ]
     },
     "execution_count": 70,
     "metadata": {},
     "output_type": "execute_result"
    }
   ],
   "source": [
    "def logged(fn):\n",
    "    def wrapper(*args, **kwargs):\n",
    "        print('{} is called with arguments : {} {}'.format(fn, args, kwargs))\n",
    "        return fn(*args, **kwargs)\n",
    "\n",
    "    return wrapper\n",
    "\n",
    "logged_average = logged(average)\n",
    "logged_average(1, 2, 3, 4, lo=2)        "
   ]
  },
  {
   "cell_type": "markdown",
   "metadata": {
    "slideshow": {
     "slide_type": "slide"
    }
   },
   "source": [
    "### Инициализация аргументов по умолчанию"
   ]
  },
  {
   "cell_type": "code",
   "execution_count": 15,
   "metadata": {},
   "outputs": [
    {
     "name": "stdout",
     "output_type": "stream",
     "text": [
      "['Hi!']\n",
      "['Hi!', 'Hi!']\n",
      "['Hi!', 'Hi!', 'Hi!']\n"
     ]
    }
   ],
   "source": [
    "def foo(lst=[]):       \n",
    "    lst.append(\"Hi!\")  \n",
    "    return lst\n",
    "\n",
    "print(foo())\n",
    "print(foo())\n",
    "print(foo())"
   ]
  },
  {
   "cell_type": "code",
   "execution_count": 16,
   "metadata": {
    "slideshow": {
     "slide_type": "subslide"
    }
   },
   "outputs": [
    {
     "name": "stdout",
     "output_type": "stream",
     "text": [
      "['Hi!']\n",
      "['Hi!']\n",
      "['Hi!']\n"
     ]
    }
   ],
   "source": [
    "def foo(lst=None):       \n",
    "    if lst is None:\n",
    "        lst = []\n",
    "    lst.append(\"Hi!\")  \n",
    "    return lst\n",
    "\n",
    "print(foo())\n",
    "print(foo())\n",
    "print(foo())"
   ]
  },
  {
   "cell_type": "markdown",
   "metadata": {
    "slideshow": {
     "slide_type": "slide"
    }
   },
   "source": [
    "### Распаковка словарей"
   ]
  },
  {
   "cell_type": "code",
   "execution_count": 71,
   "metadata": {},
   "outputs": [
    {
     "data": {
      "text/plain": [
       "'User Phil has password P@ssw0rd'"
      ]
     },
     "execution_count": 71,
     "metadata": {},
     "output_type": "execute_result"
    }
   ],
   "source": [
    "settings = {'user' : 'Phil', 'password' : 'P@ssw0rd'}\n",
    "\n",
    "'User {user} has password {password}'.format(**settings)"
   ]
  },
  {
   "cell_type": "markdown",
   "metadata": {
    "slideshow": {
     "slide_type": "slide"
    }
   },
   "source": [
    "# Теперь детально поговорим о строках"
   ]
  },
  {
   "cell_type": "code",
   "execution_count": 73,
   "metadata": {
    "collapsed": true,
    "slideshow": {
     "slide_type": "slide"
    }
   },
   "outputs": [],
   "source": [
    "a = 'The word you are looking for is \"Hello\".'\n",
    "\n",
    "b = \"I'll wait you there\"\n",
    "\n",
    "c = '''Тройные кавычки.\n",
    "Для строк с переносами.\n",
    "Русский язык поддерживается из коробки.\n",
    "Как и любой другой'''\n",
    "\n",
    "e = \"And also\" \" you can \" \"split them in pieces\""
   ]
  },
  {
   "cell_type": "markdown",
   "metadata": {
    "slideshow": {
     "slide_type": "slide"
    }
   },
   "source": [
    "### Бонус"
   ]
  },
  {
   "cell_type": "code",
   "execution_count": 19,
   "metadata": {},
   "outputs": [
    {
     "name": "stdout",
     "output_type": "stream",
     "text": [
      "0.6666666666666666\n"
     ]
    }
   ],
   "source": [
    "def покажи(а):\n",
    "    print(а)\n",
    "\n",
    "делимое = 2\n",
    "делитель = 3\n",
    "\n",
    "частное = делимое / делитель\n",
    "\n",
    "покажи(частное)"
   ]
  },
  {
   "cell_type": "markdown",
   "metadata": {
    "slideshow": {
     "slide_type": "slide"
    }
   },
   "source": [
    "### Escape - подследовательности"
   ]
  },
  {
   "cell_type": "markdown",
   "metadata": {},
   "source": [
    "- спецсимволы **\\n** - перенос  **\\t** - табуляция  **\\r** - возврат каретки"
   ]
  },
  {
   "cell_type": "code",
   "execution_count": 20,
   "metadata": {},
   "outputs": [
    {
     "name": "stdout",
     "output_type": "stream",
     "text": [
      "name\tsurname\n",
      "Mikey\tMouse\n"
     ]
    }
   ],
   "source": [
    "a = \"name\\tsurname\\nMikey\\tMouse\"\n",
    "print(a)"
   ]
  },
  {
   "cell_type": "markdown",
   "metadata": {
    "slideshow": {
     "slide_type": "subslide"
    }
   },
   "source": [
    "Наследие C:\n",
    "- восьмеричные коды **\\777** (1-3 восьмеричных цифры)\n",
    "- hex-коды **\\xaa** (2 шестнадцатиричных цифры)\n"
   ]
  },
  {
   "cell_type": "code",
   "execution_count": 103,
   "metadata": {},
   "outputs": [
    {
     "name": "stdout",
     "output_type": "stream",
     "text": [
      "\u0007, ?, ǿ, ǿ7, ǿ77\n",
      "ÿ ǿ ÿ ǿ\n"
     ]
    }
   ],
   "source": [
    "# implementation defined-behavior\n",
    "print( '\\7, \\77, \\777, \\7777, \\77777')\n",
    "print('\\377 \\777 \\xff \\u01ff')"
   ]
  },
  {
   "cell_type": "code",
   "execution_count": 104,
   "metadata": {},
   "outputs": [
    {
     "name": "stdout",
     "output_type": "stream",
     "text": [
      "\"\"\"\"\"\"\"\"\"\"\"\"\"\"\"\"\"\"\"\"\"\"\"\"\"\"\"\"\"\"\n"
     ]
    }
   ],
   "source": [
    "a = \"\\\"\" * 30\n",
    "print(a)"
   ]
  },
  {
   "cell_type": "markdown",
   "metadata": {
    "slideshow": {
     "slide_type": "slide"
    }
   },
   "source": [
    "### Raw-strings\n",
    "\n",
    "В них escape-коды не интерпретируются"
   ]
  },
  {
   "cell_type": "code",
   "execution_count": 22,
   "metadata": {},
   "outputs": [
    {
     "name": "stdout",
     "output_type": "stream",
     "text": [
      "\\n\\t\n"
     ]
    }
   ],
   "source": [
    "a = r'\\n\\t'\n",
    "print(a)"
   ]
  },
  {
   "cell_type": "markdown",
   "metadata": {
    "slideshow": {
     "slide_type": "slide"
    }
   },
   "source": [
    "### Как вообще хранить строки"
   ]
  },
  {
   "cell_type": "markdown",
   "metadata": {},
   "source": [
    "*Кодировка* - -> отображение из символов в байты, обычно задаваемое таблицей соответствия. \n",
    "\n",
    "*Символ* -> Минимальная компонента текста. \n",
    "\n",
    "*Unicode* -> Стандарт в котором перечислены все возможные символы  (более 150000 ).\n",
    "\n",
    "\n",
    "| 0061 | a   | LATIN SMALL LETTER A |\n",
    "|------|-----|----------------------|\n",
    "| 0062 | b   | LATIN SMALL LETTER B |\n",
    "| 0063 | c   | LATIN SMALL LETTER C |\n",
    "| ...  | ... | ....                 |\n",
    "| 007B | {   | LEFT CURLY BRACKET   |\n",
    "| ...  | ... | ....                 |\n",
    "| 16e4 | ᛤ   | RUNIC LETTER CEALC   |\n",
    "| 1F60E | 😎  | SMILING FACE WITH SUNGLASSES   |\n",
    "\n",
    "Есть Множество способов закодировать unicode -- utf8, utf16, ucs-1, ucs-2, ucs-4 ..."
   ]
  },
  {
   "cell_type": "markdown",
   "metadata": {
    "slideshow": {
     "slide_type": "slide"
    }
   },
   "source": [
    "#### Строки в Python3 -- последовательность символов Unicode"
   ]
  },
  {
   "cell_type": "code",
   "execution_count": 23,
   "metadata": {},
   "outputs": [
    {
     "name": "stdout",
     "output_type": "stream",
     "text": [
      "['H', 'e', 'l', 'l', 'o', ',', ' ', 'w', 'o', 'r', 'l', 'd', '!']\n",
      "<class 'str'>\n",
      "<class 'str'>\n"
     ]
    }
   ],
   "source": [
    "a = \"Hello, world!\"\n",
    "print(list(a))\n",
    "print(type(a))\n",
    "print(type(a[0]))"
   ]
  },
  {
   "cell_type": "markdown",
   "metadata": {
    "slideshow": {
     "slide_type": "subslide"
    }
   },
   "source": [
    "### Escape-последовательности unicode\n",
    "- hex-представление - **\\\\u[0-F]{4}** или  **\\\\U[0-F]{8}**\n",
    "- именованные символы юникода **\\\\N{NameGoesHere}** - см. http://www.unicode.org/Public/9.0.0/ucd/NameAliases.txt\n"
   ]
  },
  {
   "cell_type": "code",
   "execution_count": 121,
   "metadata": {},
   "outputs": [
    {
     "name": "stdout",
     "output_type": "stream",
     "text": [
      "ꪪ 💰 😎\n"
     ]
    }
   ],
   "source": [
    "print('\\uAAAA', '\\U0001f4b0', '\\N{SMILING FACE WITH SUNGLASSES}')"
   ]
  },
  {
   "cell_type": "code",
   "execution_count": 24,
   "metadata": {
    "slideshow": {
     "slide_type": "subslide"
    }
   },
   "outputs": [
    {
     "name": "stdout",
     "output_type": "stream",
     "text": [
      "84 T  101 e  115 s  116 t  44 ,  32    1058 Т  1077 е  1089 с  1090 т  "
     ]
    }
   ],
   "source": [
    "string = 'Test, Тест'\n",
    "for sym in string:\n",
    "    print(ord(sym), sym, end='  ')"
   ]
  },
  {
   "cell_type": "code",
   "execution_count": 41,
   "metadata": {
    "slideshow": {
     "slide_type": "subslide"
    }
   },
   "outputs": [
    {
     "name": "stdout",
     "output_type": "stream",
     "text": [
      "128526 😎 128527 😏 128528 😐 128529 😑 128530 😒 128531 😓 128532 😔 128533 😕 128534 😖 128535 😗 128536 😘 "
     ]
    }
   ],
   "source": [
    "for code in range(0x1F60E, 0x1F619):\n",
    "    print(code, chr(code), end=' ')\n"
   ]
  },
  {
   "cell_type": "code",
   "execution_count": 21,
   "metadata": {
    "slideshow": {
     "slide_type": "subslide"
    }
   },
   "outputs": [
    {
     "name": "stdout",
     "output_type": "stream",
     "text": [
      "a¬ሴ€耀Δ\n"
     ]
    }
   ],
   "source": [
    "print(\"a\\xac\\u1234\\u20ac\\U00008000\\N{GREEK CAPITAL LETTER DELTA}\")"
   ]
  },
  {
   "cell_type": "code",
   "execution_count": 122,
   "metadata": {},
   "outputs": [
    {
     "data": {
      "text/plain": [
       "'0x1f4a9'"
      ]
     },
     "execution_count": 122,
     "metadata": {},
     "output_type": "execute_result"
    }
   ],
   "source": [
    "hex(ord('💩'))"
   ]
  },
  {
   "cell_type": "markdown",
   "metadata": {
    "slideshow": {
     "slide_type": "slide"
    }
   },
   "source": [
    "### Базовые методы"
   ]
  },
  {
   "cell_type": "code",
   "execution_count": 123,
   "metadata": {
    "collapsed": true
   },
   "outputs": [],
   "source": [
    "test = 'Hi!'\n",
    "\n",
    "if test: \n",
    "    pass\n",
    "\n",
    "if 'Hi' in test:\n",
    "    pass"
   ]
  },
  {
   "cell_type": "markdown",
   "metadata": {
    "slideshow": {
     "slide_type": "subslide"
    }
   },
   "source": [
    "### Сравнения"
   ]
  },
  {
   "cell_type": "code",
   "execution_count": 127,
   "metadata": {},
   "outputs": [
    {
     "data": {
      "text/plain": [
       "(True, False)"
      ]
     },
     "execution_count": 127,
     "metadata": {},
     "output_type": "execute_result"
    }
   ],
   "source": [
    "'a' < 'b' , 'test' < 'Hi'"
   ]
  },
  {
   "cell_type": "code",
   "execution_count": 130,
   "metadata": {},
   "outputs": [
    {
     "data": {
      "text/plain": [
       "False"
      ]
     },
     "execution_count": 130,
     "metadata": {},
     "output_type": "execute_result"
    }
   ],
   "source": [
    "'ёжик' < 'медвежонок'"
   ]
  },
  {
   "cell_type": "markdown",
   "metadata": {
    "collapsed": true,
    "slideshow": {
     "slide_type": "slide"
    }
   },
   "source": [
    "### Методы строк :: регистр"
   ]
  },
  {
   "cell_type": "code",
   "execution_count": 33,
   "metadata": {
    "slideshow": {
     "slide_type": "-"
    }
   },
   "outputs": [
    {
     "data": {
      "text/plain": [
       "('ВСЕМ ПРИВЕТ!', 'всем привет!')"
      ]
     },
     "execution_count": 33,
     "metadata": {},
     "output_type": "execute_result"
    }
   ],
   "source": [
    "hi = 'Всем привет!'\n",
    "hi.upper(), hi.lower()"
   ]
  },
  {
   "cell_type": "code",
   "execution_count": 34,
   "metadata": {},
   "outputs": [
    {
     "data": {
      "text/plain": [
       "('Всем Привет!', 'вСЕМ ПРИВЕТ!')"
      ]
     },
     "execution_count": 34,
     "metadata": {},
     "output_type": "execute_result"
    }
   ],
   "source": [
    "hi.title(), hi.swapcase()"
   ]
  },
  {
   "cell_type": "markdown",
   "metadata": {
    "collapsed": true,
    "slideshow": {
     "slide_type": "slide"
    }
   },
   "source": [
    "### Методы строк :: поиск"
   ]
  },
  {
   "cell_type": "code",
   "execution_count": 133,
   "metadata": {},
   "outputs": [
    {
     "name": "stdout",
     "output_type": "stream",
     "text": [
      "1\n"
     ]
    }
   ],
   "source": [
    "tea = 'Съешь ещё этих мягких французских булок, да выпей же чаю!'\n",
    "print(tea.count('о')) "
   ]
  },
  {
   "cell_type": "code",
   "execution_count": 134,
   "metadata": {},
   "outputs": [
    {
     "name": "stdout",
     "output_type": "stream",
     "text": [
      "53\n"
     ]
    }
   ],
   "source": [
    "print(tea.index('чаю')) ## or tea.find tea.rfind tea.rindex"
   ]
  },
  {
   "cell_type": "markdown",
   "metadata": {
    "slideshow": {
     "slide_type": "slide"
    }
   },
   "source": [
    "### Методы строк :: предикаты"
   ]
  },
  {
   "cell_type": "code",
   "execution_count": 42,
   "metadata": {},
   "outputs": [
    {
     "data": {
      "text/plain": [
       "True"
      ]
     },
     "execution_count": 42,
     "metadata": {},
     "output_type": "execute_result"
    }
   ],
   "source": [
    "\"Телевизор\".endswith(\"визор\")   # also : startswith"
   ]
  },
  {
   "cell_type": "code",
   "execution_count": 53,
   "metadata": {},
   "outputs": [
    {
     "data": {
      "text/plain": [
       "(True, True, True, True, True)"
      ]
     },
     "execution_count": 53,
     "metadata": {},
     "output_type": "execute_result"
    }
   ],
   "source": [
    "\"16E45\".isalnum(), \"16\".isdigit(), \"test\".islower(), \"q\".isalpha(), \"Test Me\".istitle()"
   ]
  },
  {
   "cell_type": "markdown",
   "metadata": {
    "slideshow": {
     "slide_type": "slide"
    }
   },
   "source": [
    "### Методы строк :: split and join"
   ]
  },
  {
   "cell_type": "code",
   "execution_count": 52,
   "metadata": {},
   "outputs": [
    {
     "name": "stdout",
     "output_type": "stream",
     "text": [
      "ID\tNAME\tSURNAME\tCITY\tREGION\tAGE\tWEALTH\tREGISTERED\n",
      "['ID', 'NAME', 'SURNAME', 'CITY', 'REGION', 'AGE', 'WEALTH', 'REGISTERED']\n",
      "ID\n",
      "NAME\n",
      "SURNAME\n",
      "CITY\n",
      "REGION\n",
      "AGE\n",
      "WEALTH\n",
      "REGISTERED\n"
     ]
    }
   ],
   "source": [
    "a = \"ID\\tNAME\\tSURNAME\\tCITY\\tREGION\\tAGE\\tWEALTH\\tREGISTERED\"\n",
    "print(a)\n",
    "print(a.split())\n",
    "print('\\n'.join(a.split()))"
   ]
  },
  {
   "cell_type": "markdown",
   "metadata": {
    "slideshow": {
     "slide_type": "slide"
    }
   },
   "source": [
    "### Методы строк :: выравнивание"
   ]
  },
  {
   "cell_type": "code",
   "execution_count": 63,
   "metadata": {},
   "outputs": [
    {
     "name": "stdout",
     "output_type": "stream",
     "text": [
      "Luke Skywalker~~~~~~~~~~~~~~~~~~~~~~~~~~\n",
      "~~~~~~~~~~~~~~~~~~~~~~~~~~Luke Skywalker\n",
      "~~~~~~~~~~~~~Luke Skywalker~~~~~~~~~~~~~\n"
     ]
    }
   ],
   "source": [
    "a = \"Luke Skywalker\"\n",
    "print(a.ljust(40, '~'))\n",
    "print(a.rjust(40, '~'))\n",
    "print(a.center(40, '~'))"
   ]
  },
  {
   "cell_type": "markdown",
   "metadata": {
    "slideshow": {
     "slide_type": "slide"
    }
   },
   "source": [
    "### Методы строк :: форматирование"
   ]
  },
  {
   "cell_type": "code",
   "execution_count": 70,
   "metadata": {},
   "outputs": [
    {
     "data": {
      "text/plain": [
       "'[2017-10-01 18:01:41] : Starting new process \"watcher\"'"
      ]
     },
     "execution_count": 70,
     "metadata": {},
     "output_type": "execute_result"
    }
   ],
   "source": [
    "from datetime import datetime\n",
    "\n",
    "\"[{}] : Starting new process \\\"{}\\\"\".format(datetime.now().strftime('%Y-%m-%d %H:%M:%S'), 'watcher')"
   ]
  },
  {
   "cell_type": "code",
   "execution_count": 71,
   "metadata": {},
   "outputs": [
    {
     "data": {
      "text/plain": [
       "'Hi! My name is Phill!'"
      ]
     },
     "execution_count": 71,
     "metadata": {},
     "output_type": "execute_result"
    }
   ],
   "source": [
    "\"{1}! My name is {0}!\".format(\"Phill\", \"Hi\")"
   ]
  },
  {
   "cell_type": "code",
   "execution_count": 72,
   "metadata": {
    "slideshow": {
     "slide_type": "subslide"
    }
   },
   "outputs": [
    {
     "data": {
      "text/plain": [
       "'Sarah Connor is 27 years old'"
      ]
     },
     "execution_count": 72,
     "metadata": {},
     "output_type": "execute_result"
    }
   ],
   "source": [
    "\"{name} {surname} is {age} years old\".format(name='Sarah', surname='Connor', age='27')"
   ]
  },
  {
   "cell_type": "code",
   "execution_count": 77,
   "metadata": {},
   "outputs": [
    {
     "name": "stdout",
     "output_type": "stream",
     "text": [
      "value is 00.6000\n",
      "value is 01.0001\n",
      "value is 22.7000\n"
     ]
    }
   ],
   "source": [
    "for value in [0.6, 1.0001, 22.7]:\n",
    "    print(\"value is {:07.4f}\".format(value))"
   ]
  },
  {
   "cell_type": "markdown",
   "metadata": {
    "slideshow": {
     "slide_type": "subslide"
    }
   },
   "source": [
    "### https://pyformat.info/"
   ]
  },
  {
   "cell_type": "markdown",
   "metadata": {
    "slideshow": {
     "slide_type": "slide"
    }
   },
   "source": [
    "### модуль string"
   ]
  },
  {
   "cell_type": "code",
   "execution_count": 79,
   "metadata": {},
   "outputs": [
    {
     "data": {
      "text/plain": [
       "('abcdefghijklmnopqrstuvwxyzABCDEFGHIJKLMNOPQRSTUVWXYZ',\n",
       " 'abcdefghijklmnopqrstuvwxyz')"
      ]
     },
     "execution_count": 79,
     "metadata": {},
     "output_type": "execute_result"
    }
   ],
   "source": [
    "import string\n",
    "\n",
    "string.ascii_letters"
   ]
  },
  {
   "cell_type": "code",
   "execution_count": 80,
   "metadata": {},
   "outputs": [
    {
     "data": {
      "text/plain": [
       "'abcdefghijklmnopqrstuvwxyz'"
      ]
     },
     "execution_count": 80,
     "metadata": {},
     "output_type": "execute_result"
    }
   ],
   "source": [
    "string.ascii_lowercase"
   ]
  },
  {
   "cell_type": "code",
   "execution_count": 81,
   "metadata": {},
   "outputs": [
    {
     "data": {
      "text/plain": [
       "'!\"#$%&\\'()*+,-./:;<=>?@[\\\\]^_`{|}~'"
      ]
     },
     "execution_count": 81,
     "metadata": {},
     "output_type": "execute_result"
    }
   ],
   "source": [
    "string.punctuation"
   ]
  },
  {
   "cell_type": "markdown",
   "metadata": {
    "slideshow": {
     "slide_type": "slide"
    }
   },
   "source": [
    "## Bytes"
   ]
  },
  {
   "cell_type": "markdown",
   "metadata": {},
   "source": [
    "- Тип для хранения бинарных данных\n",
    "- Отображения байты <-> строки -- кодирование и декодирование"
   ]
  },
  {
   "cell_type": "code",
   "execution_count": 63,
   "metadata": {},
   "outputs": [
    {
     "data": {
      "text/plain": [
       "b'\\xd0\\x9f\\xd1\\x80\\xd0\\xb8\\xd0\\xb2\\xd0\\xb5\\xd1\\x82 \\xf0\\x9f\\x98\\x8e'"
      ]
     },
     "execution_count": 63,
     "metadata": {},
     "output_type": "execute_result"
    }
   ],
   "source": [
    "bt = 'Привет 😎'.encode('utf8')\n",
    "bt"
   ]
  },
  {
   "cell_type": "code",
   "execution_count": 65,
   "metadata": {
    "collapsed": true
   },
   "outputs": [],
   "source": [
    "\n",
    "? str.encode"
   ]
  },
  {
   "cell_type": "markdown",
   "metadata": {
    "slideshow": {
     "slide_type": "slide"
    }
   },
   "source": [
    "## В кодировке не обязательно есть представления для любых символов"
   ]
  },
  {
   "cell_type": "code",
   "execution_count": 100,
   "metadata": {},
   "outputs": [
    {
     "data": {
      "text/plain": [
       "b'\\xcf\\xf0\\xe8\\xe2\\xe5\\xf2'"
      ]
     },
     "execution_count": 100,
     "metadata": {},
     "output_type": "execute_result"
    }
   ],
   "source": [
    "'Привет'.encode('cp1251')"
   ]
  },
  {
   "cell_type": "code",
   "execution_count": 60,
   "metadata": {},
   "outputs": [
    {
     "data": {
      "text/plain": [
       "b'Hi '"
      ]
     },
     "execution_count": 60,
     "metadata": {},
     "output_type": "execute_result"
    }
   ],
   "source": [
    "'Hi Привет'.encode('ascii', 'ignore')  # try 'ignore' or 'replace' as a second argument"
   ]
  },
  {
   "cell_type": "markdown",
   "metadata": {
    "slideshow": {
     "slide_type": "subslide"
    }
   },
   "source": [
    "### Кодировка по умолчанию"
   ]
  },
  {
   "cell_type": "code",
   "execution_count": 94,
   "metadata": {
    "slideshow": {
     "slide_type": "-"
    }
   },
   "outputs": [
    {
     "data": {
      "text/plain": [
       "'utf-8'"
      ]
     },
     "execution_count": 94,
     "metadata": {},
     "output_type": "execute_result"
    }
   ],
   "source": [
    "import sys\n",
    "sys.getdefaultencoding() # sys get default encoding"
   ]
  },
  {
   "cell_type": "markdown",
   "metadata": {
    "slideshow": {
     "slide_type": "subslide"
    }
   },
   "source": [
    "### Байты в общем случае не совместимы со строками"
   ]
  },
  {
   "cell_type": "code",
   "execution_count": 104,
   "metadata": {},
   "outputs": [
    {
     "ename": "TypeError",
     "evalue": "a bytes-like object is required, not 'str'",
     "output_type": "error",
     "traceback": [
      "\u001b[0;31m---------------------------------------------------------------------------\u001b[0m",
      "\u001b[0;31mTypeError\u001b[0m                                 Traceback (most recent call last)",
      "\u001b[0;32m<ipython-input-104-50c4ed645f7a>\u001b[0m in \u001b[0;36m<module>\u001b[0;34m()\u001b[0m\n\u001b[0;32m----> 1\u001b[0;31m \u001b[0;34m'test'\u001b[0m \u001b[0;32min\u001b[0m \u001b[0;34mb'bytestest'\u001b[0m\u001b[0;34m\u001b[0m\u001b[0m\n\u001b[0m",
      "\u001b[0;31mTypeError\u001b[0m: a bytes-like object is required, not 'str'"
     ]
    }
   ],
   "source": [
    "'test' in b'bytestest'"
   ]
  },
  {
   "cell_type": "markdown",
   "metadata": {
    "slideshow": {
     "slide_type": "slide"
    }
   },
   "source": [
    "### Файлы"
   ]
  },
  {
   "cell_type": "code",
   "execution_count": 111,
   "metadata": {},
   "outputs": [
    {
     "data": {
      "text/plain": [
       "<_io.TextIOWrapper name='/Users/phill/tmp/poem.txt' mode='r' encoding='UTF-8'>"
      ]
     },
     "execution_count": 111,
     "metadata": {},
     "output_type": "execute_result"
    }
   ],
   "source": [
    "f = open('/Users/phill/tmp/poem.txt')\n",
    "f"
   ]
  },
  {
   "cell_type": "code",
   "execution_count": 112,
   "metadata": {},
   "outputs": [
    {
     "data": {
      "text/plain": [
       "'Once upon a midnight dreary, while I pondered, weak and weary,\\n'"
      ]
     },
     "execution_count": 112,
     "metadata": {},
     "output_type": "execute_result"
    }
   ],
   "source": [
    "f.readline()"
   ]
  },
  {
   "cell_type": "markdown",
   "metadata": {
    "slideshow": {
     "slide_type": "slide"
    }
   },
   "source": [
    "### Modes"
   ]
  },
  {
   "cell_type": "code",
   "execution_count": 121,
   "metadata": {},
   "outputs": [
    {
     "data": {
      "text/plain": [
       "'Once upon a midnight'"
      ]
     },
     "execution_count": 121,
     "metadata": {},
     "output_type": "execute_result"
    }
   ],
   "source": [
    "f = open('/Users/phill/tmp/poem.txt', 'r', encoding='utf8')  # из файла открытого в текстовом режиме читаются строки\n",
    "f.read(20)"
   ]
  },
  {
   "cell_type": "code",
   "execution_count": 115,
   "metadata": {},
   "outputs": [
    {
     "data": {
      "text/plain": [
       "b'Once upon a midnight'"
      ]
     },
     "execution_count": 115,
     "metadata": {},
     "output_type": "execute_result"
    }
   ],
   "source": [
    "f = open('/Users/phill/tmp/poem.txt', 'rb') # из файла открытого в бинарном режиме читаются байты\n",
    "f.read(20)"
   ]
  },
  {
   "cell_type": "markdown",
   "metadata": {
    "slideshow": {
     "slide_type": "slide"
    }
   },
   "source": [
    "### Read"
   ]
  },
  {
   "cell_type": "code",
   "execution_count": 123,
   "metadata": {},
   "outputs": [
    {
     "data": {
      "text/plain": [
       "['Once upon a midnight dreary, while I pondered, weak and weary,\\n',\n",
       " 'Over many a quaint and curious volume of forgotten lore,\\n',\n",
       " 'While I nodded, nearly napping, suddenly there came a tapping,\\n']"
      ]
     },
     "execution_count": 123,
     "metadata": {},
     "output_type": "execute_result"
    }
   ],
   "source": [
    "f = open('/Users/phill/tmp/poem.txt')\n",
    "f.readlines()[:3]"
   ]
  },
  {
   "cell_type": "code",
   "execution_count": 125,
   "metadata": {},
   "outputs": [
    {
     "name": "stdout",
     "output_type": "stream",
     "text": [
      "[63, 57, 63, 59, 61, 30, 1, 56, 64, 61, 64, 62, 28, 1, 61, 66, 66, 58, 60, 31, 1, 60, 59, 63, 61, 68, 34, 1, 72, 65, 63, 65, 66, 31, 1, 62, 58, 65, 62, 59, 33, 1, 68, 62, 68, 64, 59, 36, 1, 58, 59, 74, 66, 65, 30, 1, 65, 57, 55, 61, 63, 30]\n"
     ]
    }
   ],
   "source": [
    "line_lengths = []\n",
    "for line in open('/Users/phill/tmp/poem.txt'):\n",
    "    line_lengths.append(len(line))\n",
    "print(line_lengths)"
   ]
  },
  {
   "cell_type": "markdown",
   "metadata": {
    "slideshow": {
     "slide_type": "slide"
    }
   },
   "source": [
    "### Write\n",
    "\n",
    "Файл можно открыть для записи (режим 'w') и для добавления (режим 'a')"
   ]
  },
  {
   "cell_type": "code",
   "execution_count": 131,
   "metadata": {
    "collapsed": true
   },
   "outputs": [],
   "source": [
    "\n",
    "f = open('/Users/phill/tmp/poem.txt', 'a')  # appends to file"
   ]
  },
  {
   "cell_type": "code",
   "execution_count": 132,
   "metadata": {},
   "outputs": [
    {
     "data": {
      "text/plain": [
       "False"
      ]
     },
     "execution_count": 132,
     "metadata": {},
     "output_type": "execute_result"
    }
   ],
   "source": [
    "f.write('Hi! Check me out!\\n')   "
   ]
  },
  {
   "cell_type": "markdown",
   "metadata": {
    "slideshow": {
     "slide_type": "slide"
    }
   },
   "source": [
    "### Допольнительные методы и поля"
   ]
  },
  {
   "cell_type": "code",
   "execution_count": null,
   "metadata": {
    "collapsed": true
   },
   "outputs": [],
   "source": [
    "f.close()\n",
    "f.closed\n",
    "f.flush()\n",
    "f.seek()\n",
    "f.tell()\n",
    "f.truncate()"
   ]
  },
  {
   "cell_type": "markdown",
   "metadata": {
    "slideshow": {
     "slide_type": "slide"
    }
   },
   "source": [
    "### Стражи контекстов"
   ]
  },
  {
   "cell_type": "code",
   "execution_count": 129,
   "metadata": {},
   "outputs": [
    {
     "name": "stdout",
     "output_type": "stream",
     "text": [
      "Once upon a midnight dreary, while I pondered, weak and weary,\n",
      "Over many a quaint and curious volume of forgotten lore,\n",
      "While I nodded, nearly napping, suddenly there came a tapping,\n",
      "As of some one gently rapping, rapping at my chamber door.\n",
      "Tis some visitor,\" I muttered, \"tapping at my chamber door —\n",
      "Only this, and nothing more.\"\n",
      "\n",
      "Ah, distinctly I remember it was in the bleak December,\n",
      "And each separate dying ember wrought its ghost upon the floor.\n",
      "Eagerly I wished the morrow; — vainly I had sought to borrow\n",
      "From my books surcease of sorrow — sorrow for the lost Lenore —\n",
      "For the rare and radiant maiden whom the angels name Lenore —\n",
      "Nameless here for evermore.\n",
      "\n",
      "And the silken sad uncertain rustling of each purple curtain\n",
      "Thrilled me — filled me with fantastic terrors never felt before;\n",
      "So that now, to still the beating of my heart, I stood repeating,\n",
      "Tis some visitor entreating entrance at my chamber door —\n",
      "Some late visitor entreating entrance at my chamber door; —\n",
      "This it is, and nothing more.\"\n",
      "\n",
      "Presently my soul grew stronger; hesitating then no longer,\n",
      "Sir,\" said I, \"or Madam, truly your forgiveness I implore;\n",
      "But the fact is I was napping, and so gently you came rapping,\n",
      "And so faintly you came tapping, tapping at my chamber door,\n",
      "That I scarce was sure I heard you\"— here I opened wide the door; —\n",
      "Darkness there, and nothing more.\n",
      "\n",
      "Deep into that darkness peering, long I stood there wondering, fearing,\n",
      "Doubting, dreaming dreams no mortals ever dared to dream before;\n",
      "But the silence was unbroken, and the stillness gave no token,\n",
      "And the only word there spoken was the whispered word, \"Lenore?\"\n",
      "This I whispered, and an echo murmured back the word, \"Lenore!\" —\n",
      "Merely this, and nothing more.\n",
      "\n",
      "Back into the chamber turning, all my soul within me burning,\n",
      "Soon again I heard a tapping somewhat louder than before.\n",
      "Surely,\" said I, \"surely that is something at my window lattice:\n",
      "Let me see, then, what thereat is, and this mystery explore —\n",
      "Let my heart be still a moment and this mystery explore; —\n",
      "'Tis the wind and nothing more.\"\n",
      "\n",
      "Open here I flung the shutter, when, with many a flirt and flutter,\n",
      "In there stepped a stately raven of the saintly days of yore;\n",
      "Not the least obeisance made he; not a minute stopped or stayed he;\n",
      "But, with mien of lord or lady, perched above my chamber door —\n",
      "Perched upon a bust of Pallas just above my chamber door —\n",
      "Perched, and sat, and nothing more.\n",
      "\n",
      "Then this ebony bird beguiling my sad fancy into smiling,\n",
      "By the grave and stern decorum of the countenance it wore.\n",
      "Though thy crest be shorn and shaven, thou,\" I said, \"art sure no craven,\n",
      "Ghastly grim and ancient raven wandering from the Nightly shore —\n",
      "Tell me what thy lordly name is on the Night's Plutonian shore!\"\n",
      "Quoth the Raven, \"Nevermore.\"\n",
      "\n",
      "Much I marveled this ungainly fowl to hear discourse so plainly,\n",
      "Though its answer little meaning— little relevancy bore;\n",
      "For we cannot help agreeing that no living human being\n",
      "Ever yet was blest with seeing bird above his chamber door —\n",
      "Bird or beast upon the sculptured bust above his chamber door,\n",
      "With such name as \"Nevermore.”Hi! Check me out!\n",
      "\n"
     ]
    }
   ],
   "source": [
    "with open('/Users/phill/tmp/poem.txt') as f:\n",
    "    print(f.read())"
   ]
  },
  {
   "cell_type": "markdown",
   "metadata": {
    "slideshow": {
     "slide_type": "slide"
    }
   },
   "source": [
    "### stdin, stdout, stderr\n",
    "При работе скрипта Python предоставляет доступ к трем текстовым файловым обьектам -- *stdin*, *stdout* и *stderr*"
   ]
  },
  {
   "cell_type": "code",
   "execution_count": null,
   "metadata": {
    "collapsed": true
   },
   "outputs": [],
   "source": [
    "import sys\n",
    "\n",
    "total = 0.0\n",
    "for line in sys.stdin:\n",
    "    if line.isdigit():\n",
    "        total += int(line)\n",
    "        sys.stdout.write('Total so far {}'.format(total))\n",
    "    else:\n",
    "        sys.stderr.write('{} is not a digit'.format(line))"
   ]
  }
 ],
 "metadata": {
  "celltoolbar": "Slideshow",
  "kernelspec": {
   "display_name": "Python 3",
   "language": "python",
   "name": "python3"
  },
  "language_info": {
   "codemirror_mode": {
    "name": "ipython",
    "version": 3
   },
   "file_extension": ".py",
   "mimetype": "text/x-python",
   "name": "python",
   "nbconvert_exporter": "python",
   "pygments_lexer": "ipython3",
   "version": "3.6.6"
  },
  "livereveal": {
   "theme": "Serif",
   "transition": "fade"
  }
 },
 "nbformat": 4,
 "nbformat_minor": 2
}
