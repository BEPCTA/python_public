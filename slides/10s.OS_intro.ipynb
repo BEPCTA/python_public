{
 "cells": [
  {
   "cell_type": "markdown",
   "metadata": {},
   "source": [
    "# Shell"
   ]
  },
  {
   "cell_type": "markdown",
   "metadata": {},
   "source": [
    "Unix shell — командный интерпретатор, используемый в операционных системах семейства Unix, в котором пользователь может либо давать команды операционной системе по отдельности, либо запускать скрипты, состоящие из списка команд"
   ]
  },
  {
   "cell_type": "markdown",
   "metadata": {},
   "source": [
    "![shell](https://habrastorage.org/files/158/0a1/e66/1580a1e669284c40917ae98946490652.png)"
   ]
  },
  {
   "cell_type": "markdown",
   "metadata": {},
   "source": [
    "#### Подробнее в статье: https://habr.com/post/267825/"
   ]
  },
  {
   "cell_type": "code",
   "execution_count": 7,
   "metadata": {},
   "outputs": [
    {
     "name": "stdout",
     "output_type": "stream",
     "text": [
      "vmazaev-nix\r\n"
     ]
    }
   ],
   "source": [
    "!hostname"
   ]
  },
  {
   "cell_type": "code",
   "execution_count": 8,
   "metadata": {},
   "outputs": [
    {
     "name": "stdout",
     "output_type": "stream",
     "text": [
      "vmazaev\r\n"
     ]
    }
   ],
   "source": [
    "!whoami"
   ]
  },
  {
   "cell_type": "code",
   "execution_count": 9,
   "metadata": {},
   "outputs": [
    {
     "name": "stdout",
     "output_type": "stream",
     "text": [
      "/home/vmazaev/shad\r\n"
     ]
    }
   ],
   "source": [
    "!pwd"
   ]
  },
  {
   "cell_type": "code",
   "execution_count": 10,
   "metadata": {},
   "outputs": [
    {
     "name": "stdout",
     "output_type": "stream",
     "text": [
      "bash\t       getfacl\t   nisdomainname     su\r\n",
      "bunzip2        grep\t   ntfs-3g\t     sync\r\n",
      "busybox        gunzip\t   ntfs-3g.probe     systemctl\r\n",
      "bzcat\t       gzexe\t   ntfs-3g.secaudit  systemd\r\n",
      "bzcmp\t       gzip\t   ntfs-3g.usermap   systemd-ask-password\r\n",
      "bzdiff\t       hciconfig   ntfscat\t     systemd-escape\r\n",
      "bzegrep        hostname    ntfscluster\t     systemd-hwdb\r\n",
      "bzexe\t       ip\t   ntfscmp\t     systemd-inhibit\r\n",
      "bzfgrep        journalctl  ntfsfallocate     systemd-machine-id-setup\r\n",
      "bzgrep\t       kbd_mode    ntfsfix\t     systemd-notify\r\n",
      "bzip2\t       keyctl\t   ntfsinfo\t     systemd-tmpfiles\r\n",
      "bzip2recover   kill\t   ntfsls\t     systemd-tty-ask-password-agent\r\n",
      "bzless\t       kmod\t   ntfsmove\t     tailf\r\n",
      "bzmore\t       less\t   ntfstruncate      tar\r\n",
      "cat\t       lessecho    ntfswipe\t     tempfile\r\n",
      "chacl\t       lessfile    open\t\t     touch\r\n",
      "chgrp\t       lesskey\t   openvt\t     true\r\n",
      "chmod\t       lesspipe    pidof\t     udevadm\r\n",
      "chown\t       ln\t   ping\t\t     ulockmgr_server\r\n",
      "chvt\t       loadkeys    ping6\t     umount\r\n",
      "cp\t       login\t   plymouth\t     uname\r\n",
      "cpio\t       loginctl    ps\t\t     uncompress\r\n",
      "dash\t       lowntfs-3g  pwd\t\t     unicode_start\r\n",
      "date\t       ls\t   rbash\t     vdir\r\n",
      "dd\t       lsblk\t   readlink\t     wdctl\r\n",
      "df\t       lsmod\t   red\t\t     which\r\n",
      "dir\t       mkdir\t   rm\t\t     whiptail\r\n",
      "dmesg\t       mknod\t   rmdir\t     ypdomainname\r\n",
      "dnsdomainname  mktemp\t   rnano\t     zcat\r\n",
      "domainname     more\t   run-parts\t     zcmp\r\n",
      "dumpkeys       mount\t   rzsh\t\t     zdiff\r\n",
      "echo\t       mountpoint  sed\t\t     zegrep\r\n",
      "ed\t       mt\t   setfacl\t     zfgrep\r\n",
      "efibootmgr     mt-gnu\t   setfont\t     zforce\r\n",
      "egrep\t       mv\t   setupcon\t     zgrep\r\n",
      "false\t       nano\t   sh\t\t     zless\r\n",
      "fgconsole      nc\t   sh.distrib\t     zmore\r\n",
      "fgrep\t       nc.openbsd  sleep\t     znew\r\n",
      "findmnt        netcat\t   ss\t\t     zsh\r\n",
      "fuser\t       netstat\t   static-sh\t     zsh5\r\n",
      "fusermount     networkctl  stty\r\n"
     ]
    }
   ],
   "source": [
    "!ls /bin"
   ]
  },
  {
   "cell_type": "markdown",
   "metadata": {},
   "source": [
    "#### history"
   ]
  },
  {
   "cell_type": "code",
   "execution_count": 1,
   "metadata": {},
   "outputs": [
    {
     "name": "stdout",
     "output_type": "stream",
     "text": [
      "What manual page do you want?\r\n"
     ]
    }
   ],
   "source": [
    "!man"
   ]
  },
  {
   "cell_type": "code",
   "execution_count": null,
   "metadata": {},
   "outputs": [],
   "source": [
    "!info"
   ]
  },
  {
   "cell_type": "markdown",
   "metadata": {},
   "source": [
    "#### permissions"
   ]
  },
  {
   "cell_type": "code",
   "execution_count": 13,
   "metadata": {},
   "outputs": [
    {
     "name": "stdout",
     "output_type": "stream",
     "text": [
      "chmod: missing operand\n",
      "Try 'chmod --help' for more information.\n",
      "chown: missing operand\n",
      "Try 'chown --help' for more information.\n"
     ]
    }
   ],
   "source": [
    "!chmod\n",
    "!chown"
   ]
  },
  {
   "cell_type": "markdown",
   "metadata": {},
   "source": [
    "#### stdin, stdout, pipes"
   ]
  },
  {
   "cell_type": "code",
   "execution_count": 16,
   "metadata": {},
   "outputs": [
    {
     "name": "stdout",
     "output_type": "stream",
     "text": [
      "Sat Nov 17 18:42:12 MSK 2018\r\n"
     ]
    }
   ],
   "source": [
    "!date"
   ]
  },
  {
   "cell_type": "code",
   "execution_count": 15,
   "metadata": {},
   "outputs": [],
   "source": [
    "!date > tmp"
   ]
  },
  {
   "cell_type": "code",
   "execution_count": 18,
   "metadata": {},
   "outputs": [
    {
     "name": "stdout",
     "output_type": "stream",
     "text": [
      "      1       6      29\r\n"
     ]
    }
   ],
   "source": [
    "!cat tmp | wc"
   ]
  },
  {
   "cell_type": "code",
   "execution_count": 19,
   "metadata": {},
   "outputs": [],
   "source": [
    "!date >> tmp"
   ]
  },
  {
   "cell_type": "code",
   "execution_count": 20,
   "metadata": {},
   "outputs": [
    {
     "name": "stdout",
     "output_type": "stream",
     "text": [
      "      2      12      58\r\n"
     ]
    }
   ],
   "source": [
    "!cat tmp | wc"
   ]
  },
  {
   "cell_type": "code",
   "execution_count": 22,
   "metadata": {},
   "outputs": [
    {
     "name": "stdout",
     "output_type": "stream",
     "text": [
      " 2 12 58\r\n"
     ]
    }
   ],
   "source": [
    "!wc < tmp"
   ]
  },
  {
   "cell_type": "markdown",
   "metadata": {},
   "source": [
    "# SSH"
   ]
  },
  {
   "cell_type": "markdown",
   "metadata": {},
   "source": [
    "![ssh](https://www.ssh.com/s/ssh-tunneling-3138x956-4zmvrU8b.png)"
   ]
  },
  {
   "cell_type": "markdown",
   "metadata": {},
   "source": [
    "#### Для начала: https://guides.hexlet.io/ssh/\n",
    "#### Для продвинутых: https://habr.com/post/122445/ & https://xakep.ru/2016/12/16/ssh-tips-n-tricks/ (по подписке)\n",
    "#### ssh-agent: http://xgu.ru/wiki/Управление_ключами_SSH_с_помощью_агента (в ubuntu входит в состав gnome-keyring-daemon, запущен по-умолчанию)"
   ]
  },
  {
   "cell_type": "code",
   "execution_count": 23,
   "metadata": {},
   "outputs": [
    {
     "name": "stdout",
     "output_type": "stream",
     "text": [
      "total 440\r\n",
      "-rw-rw-r-- 1 vmazaev vmazaev    486 Oct 27 21:53 config\r\n",
      "-rw------- 1 vmazaev vmazaev   1675 Apr 16  2018 docean_rsa\r\n",
      "-rw-r--r-- 1 vmazaev vmazaev    401 Apr 16  2018 docean_rsa.pub\r\n",
      "-rw------- 1 vmazaev vmazaev   1679 Apr  3  2018 id_rsa\r\n",
      "-rw-r--r-- 1 vmazaev vmazaev    401 Apr  3  2018 id_rsa.pub\r\n",
      "-rw------- 1 vmazaev vmazaev 224630 Oct  4 14:57 known_hosts\r\n",
      "-rw------- 1 vmazaev vmazaev 198744 Apr  6  2018 known_hosts.old\r\n"
     ]
    }
   ],
   "source": [
    "!ls -l ~/.ssh"
   ]
  },
  {
   "cell_type": "code",
   "execution_count": 30,
   "metadata": {},
   "outputs": [
    {
     "name": "stdout",
     "output_type": "stream",
     "text": [
      "Host docean\r\n",
      "\tHostName XXX.XXX.XXX.XXX\r\n",
      "\tUser root\r\n",
      "\tForwardAgent yes\r\n",
      "\tIdentityFile ~/.ssh/docean_rsa\r\n",
      "\r\n"
     ]
    }
   ],
   "source": [
    "!tail -6 ~/.ssh/config | sed -r 's/([0-9]+)/XXX/g'"
   ]
  },
  {
   "cell_type": "code",
   "execution_count": null,
   "metadata": {},
   "outputs": [],
   "source": [
    "!ssh 11.22.33.44"
   ]
  },
  {
   "cell_type": "code",
   "execution_count": null,
   "metadata": {},
   "outputs": [],
   "source": [
    "!ssh -i ~/key.pem ubuntu@11.22.33.44"
   ]
  },
  {
   "cell_type": "code",
   "execution_count": null,
   "metadata": {},
   "outputs": [],
   "source": [
    "!man ssh\n",
    "!man ssh_config"
   ]
  },
  {
   "cell_type": "markdown",
   "metadata": {},
   "source": [
    "# curl"
   ]
  },
  {
   "cell_type": "markdown",
   "metadata": {},
   "source": [
    "![curl](https://deividsdocs.files.wordpress.com/2018/05/captura-e1527287262746.png?w=768)"
   ]
  },
  {
   "cell_type": "markdown",
   "metadata": {},
   "source": [
    "#### Почитать: https://losst.ru/kak-polzovatsya-curl"
   ]
  },
  {
   "cell_type": "code",
   "execution_count": 34,
   "metadata": {
    "scrolled": true
   },
   "outputs": [
    {
     "name": "stdout",
     "output_type": "stream",
     "text": [
      "  % Total    % Received % Xferd  Average Speed   Time    Time     Time  Current\n",
      "                                 Dload  Upload   Total   Spent    Left  Speed\n",
      "  0     0    0     0    0     0      0      0 --:--:--  0:00:01 --:--:--     0\n"
     ]
    }
   ],
   "source": [
    "!curl \"yandex.ru\" -o body"
   ]
  },
  {
   "cell_type": "code",
   "execution_count": 1,
   "metadata": {
    "scrolled": true
   },
   "outputs": [
    {
     "name": "stdout",
     "output_type": "stream",
     "text": [
      "{\"ok\":true,\"result\":{\"id\":648896946,\"is_bot\":true,\"first_name\":\"test\",\"username\":\"my_super_tetris_bot\"}}"
     ]
    }
   ],
   "source": [
    "!curl \"https://api.telegram.org/bot${BOT_TOKEN}/getMe\""
   ]
  },
  {
   "cell_type": "code",
   "execution_count": 11,
   "metadata": {},
   "outputs": [
    {
     "name": "stdout",
     "output_type": "stream",
     "text": [
      "{\"ok\":true,\"result\":{\"message_id\":5,\"from\":{\"id\":648896946,\"is_bot\":true,\"first_name\":\"test\",\"username\":\"my_super_tetris_bot\"},\"chat\":{\"id\":122377527,\"first_name\":\"Vadim\",\"last_name\":\"Mazaev\",\"username\":\"vadim_mazaev\",\"type\":\"private\"},\"date\":1542735127,\"photo\":[{\"file_id\":\"AgADBAADc6gxG3J-hVMa6lTuGJSQPztHoBoABKfaaYVBqpiJbtsEAAEC\",\"file_size\":1480,\"width\":90,\"height\":51},{\"file_id\":\"AgADBAADc6gxG3J-hVMa6lTuGJSQPztHoBoABL7IRi7LETiLb9sEAAEC\",\"file_size\":20283,\"width\":320,\"height\":180},{\"file_id\":\"AgADBAADc6gxG3J-hVMa6lTuGJSQPztHoBoABHlqHuoN7X_CcNsEAAEC\",\"file_size\":81617,\"width\":800,\"height\":450},{\"file_id\":\"AgADBAADc6gxG3J-hVMa6lTuGJSQPztHoBoABO2RjJ8Qin47cdsEAAEC\",\"file_size\":171423,\"width\":1280,\"height\":720},{\"file_id\":\"AgADBAADc6gxG3J-hVMa6lTuGJSQPztHoBoABNbFTAABK5mPiXLbBAABAg\",\"file_size\":303690,\"width\":1920,\"height\":1080}]}}"
     ]
    }
   ],
   "source": [
    "!curl -X POST \"https://api.telegram.org/bot${BOT_TOKEN}/sendPhoto\" -H \"Content-Type: application/json\" \\\n",
    "    -d '{\"chat_id\": \"122377527\", \"photo\": \"https://bit.ly/2OPlbCl\"}'"
   ]
  },
  {
   "cell_type": "code",
   "execution_count": 12,
   "metadata": {},
   "outputs": [
    {
     "name": "stdout",
     "output_type": "stream",
     "text": [
      "{\"ok\":true,\"result\":{\"message_id\":6,\"from\":{\"id\":648896946,\"is_bot\":true,\"first_name\":\"test\",\"username\":\"my_super_tetris_bot\"},\"chat\":{\"id\":122377527,\"first_name\":\"Vadim\",\"last_name\":\"Mazaev\",\"username\":\"vadim_mazaev\",\"type\":\"private\"},\"date\":1542735359,\"photo\":[{\"file_id\":\"AgADAgADx6kxG_TJoUtSJBOUmcoV3OQ_8w4ABIPeOUYBBzLKwzUDAAEC\",\"file_size\":1349,\"width\":90,\"height\":42},{\"file_id\":\"AgADAgADx6kxG_TJoUtSJBOUmcoV3OQ_8w4ABJ78BUv90N5vxDUDAAEC\",\"file_size\":22620,\"width\":320,\"height\":150},{\"file_id\":\"AgADAgADx6kxG_TJoUtSJBOUmcoV3OQ_8w4ABMeh3txD589FxTUDAAEC\",\"file_size\":117510,\"width\":800,\"height\":375},{\"file_id\":\"AgADAgADx6kxG_TJoUtSJBOUmcoV3OQ_8w4ABLSQW72TgjJzxjUDAAEC\",\"file_size\":280797,\"width\":1280,\"height\":600},{\"file_id\":\"AgADAgADx6kxG_TJoUtSJBOUmcoV3OQ_8w4ABI-R57ftZ7S5xzUDAAEC\",\"file_size\":714984,\"width\":2000,\"height\":938}]}}"
     ]
    }
   ],
   "source": [
    "!curl -X POST \"https://api.telegram.org/bot${BOT_TOKEN}/sendPhoto\" -H \"Content-Type: multipart/form-data\" \\\n",
    "    -F 'chat_id=122377527' -F 'photo=@/home/vmazaev/kiminonawa_2.jpg'"
   ]
  },
  {
   "cell_type": "markdown",
   "metadata": {},
   "source": [
    "#### multipart/form-data: https://ru.wikipedia.org/wiki/Multipart/form-data"
   ]
  },
  {
   "cell_type": "code",
   "execution_count": 7,
   "metadata": {},
   "outputs": [
    {
     "name": "stdout",
     "output_type": "stream",
     "text": [
      "--2018-11-17 22:24:32--  https://www.python.org/ftp/python/3.7.1/Python-3.7.1.tar.xz\n",
      "Resolving www.python.org (www.python.org)... 2a04:4e42:9::223, 151.101.36.223\n",
      "Connecting to www.python.org (www.python.org)|2a04:4e42:9::223|:443... connected.\n",
      "HTTP request sent, awaiting response... 200 OK\n",
      "Length: 16960060 (16M) [application/octet-stream]\n",
      "Saving to: ‘Python-3.7.1.tar.xz’\n",
      "\n",
      "Python-3.7.1.tar.xz 100%[===================>]  16.17M  8.42MB/s    in 1.9s    \n",
      "\n",
      "2018-11-17 22:24:34 (8.42 MB/s) - ‘Python-3.7.1.tar.xz’ saved [16960060/16960060]\n",
      "\n"
     ]
    }
   ],
   "source": [
    "!wget \"https://www.python.org/ftp/python/3.7.1/Python-3.7.1.tar.xz\""
   ]
  },
  {
   "cell_type": "markdown",
   "metadata": {},
   "source": [
    "# tmux"
   ]
  },
  {
   "cell_type": "markdown",
   "metadata": {},
   "source": [
    "![tmux](https://cdn-images-1.medium.com/max/1200/1*jzpJVBT31BFW9ykUBDG7cQ.png)"
   ]
  },
  {
   "cell_type": "markdown",
   "metadata": {},
   "source": [
    "#### Шпаргалка по tmux: https://habr.com/post/126996/"
   ]
  },
  {
   "cell_type": "markdown",
   "metadata": {},
   "source": [
    "## If you just want to keep bot running when you leave ssh session"
   ]
  },
  {
   "cell_type": "code",
   "execution_count": null,
   "metadata": {},
   "outputs": [],
   "source": [
    "!nohup python3 main.py &"
   ]
  },
  {
   "cell_type": "markdown",
   "metadata": {},
   "source": [
    "# Network things"
   ]
  },
  {
   "cell_type": "markdown",
   "metadata": {},
   "source": [
    "## DNS"
   ]
  },
  {
   "cell_type": "markdown",
   "metadata": {},
   "source": [
    "![dns](http://geek-nose.com/wp-content/uploads/2018/05/what-is-dns.png)"
   ]
  },
  {
   "cell_type": "code",
   "execution_count": 9,
   "metadata": {},
   "outputs": [
    {
     "name": "stdout",
     "output_type": "stream",
     "text": [
      "ya.ru has address 87.250.250.242\n",
      "ya.ru has IPv6 address 2a02:6b8::2:242\n",
      "ya.ru mail is handled by 10 mx.yandex.ru.\n"
     ]
    }
   ],
   "source": [
    "!host ya.ru"
   ]
  },
  {
   "cell_type": "markdown",
   "metadata": {},
   "source": [
    "## Common TCP ports (listening)"
   ]
  },
  {
   "cell_type": "markdown",
   "metadata": {},
   "source": [
    "1. HTTP - 80\n",
    "2. HTTPS - 443\n",
    "3. SSH - 22"
   ]
  },
  {
   "cell_type": "markdown",
   "metadata": {},
   "source": [
    "## What happens when you type an url in the browser and press enter?\n",
    "#### Лайт-вариант: https://medium.com/@maneesha.wijesinghe1/what-happens-when-you-type-an-url-in-the-browser-and-press-enter-bb0aa2449c1a\n",
    "#### Ultra hard mode: https://github.com/alex/what-happens-when"
   ]
  },
  {
   "cell_type": "markdown",
   "metadata": {},
   "source": [
    "# How to run your bot on remote server"
   ]
  },
  {
   "cell_type": "markdown",
   "metadata": {},
   "source": [
    "0. AWS: see telegram channel for instruction\n",
    "1. Submit your code to gitlab\n",
    "2. Ssh to your server\n",
    "3. Clone your git repo, i.e. `git clone git@gitlab.manytask ...`\n",
    "4. Change branch to `submits/cinemabot`, i.e. `git checkout -b `\n",
    "5. Install requirements, i.e. `pip install -r requirements.txt`\n",
    "6. Run tmux\n",
    "7. Start your bot, i.e. `python3 main.py`\n",
    "8. Detach from tmux\n",
    "\n",
    "### Update code\n",
    "1. Submit your code to gitlab\n",
    "2. Ssh yo yur server\n",
    "3. Pull changes from gitlab, i.e. `git pull origin submits/cinemabot`\n",
    "4. Install new requirements if needed\n",
    "5. Attach to tmux, restart bot, detach from tmux"
   ]
  },
  {
   "cell_type": "markdown",
   "metadata": {},
   "source": [
    "# Docker (basic)"
   ]
  },
  {
   "cell_type": "markdown",
   "metadata": {},
   "source": [
    "![docker](https://vidikon.info/wp-content/uploads/2018/01/docker-banner-1920x500.png)"
   ]
  },
  {
   "cell_type": "markdown",
   "metadata": {},
   "source": [
    "#### Документация: https://docs.docker.com/"
   ]
  },
  {
   "cell_type": "code",
   "execution_count": null,
   "metadata": {},
   "outputs": [],
   "source": []
  }
 ],
 "metadata": {
  "kernelspec": {
   "display_name": "Python 3",
   "language": "python",
   "name": "python3"
  },
  "language_info": {
   "codemirror_mode": {
    "name": "ipython",
    "version": 3
   },
   "file_extension": ".py",
   "mimetype": "text/x-python",
   "name": "python",
   "nbconvert_exporter": "python",
   "pygments_lexer": "ipython3",
   "version": "3.5.2"
  }
 },
 "nbformat": 4,
 "nbformat_minor": 2
}
