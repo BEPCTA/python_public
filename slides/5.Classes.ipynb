{
 "cells": [
  {
   "cell_type": "markdown",
   "metadata": {
    "slideshow": {
     "slide_type": "slide"
    }
   },
   "source": [
    "<center>\n",
    "<img src=\"https://upload.wikimedia.org/wikipedia/commons/a/a8/%D0%9B%D0%9E%D0%93%D0%9E_%D0%A8%D0%90%D0%94.png\" width=300px/>\n",
    "<br />\n",
    "<h1>Атрибуты объектов, классы</h1>\n",
    "<h3>Python</h3>\n",
    "<br />\n",
    "<h4>2018</h4> </center>"
   ]
  },
  {
   "cell_type": "markdown",
   "metadata": {
    "slideshow": {
     "slide_type": "slide"
    }
   },
   "source": [
    "### Атрибуты объектов"
   ]
  },
  {
   "cell_type": "code",
   "execution_count": 13,
   "metadata": {},
   "outputs": [
    {
     "data": {
      "text/plain": [
       "2"
      ]
     },
     "execution_count": 13,
     "metadata": {},
     "output_type": "execute_result"
    }
   ],
   "source": [
    "def f(x):\n",
    "    return f.attr * x \n",
    "\n",
    "f.attr = 2\n",
    "f(1)\n"
   ]
  },
  {
   "cell_type": "code",
   "execution_count": 16,
   "metadata": {},
   "outputs": [
    {
     "data": {
      "text/plain": [
       "2"
      ]
     },
     "execution_count": 16,
     "metadata": {},
     "output_type": "execute_result"
    }
   ],
   "source": [
    "f.__dict__['attr']"
   ]
  },
  {
   "cell_type": "code",
   "execution_count": 16,
   "metadata": {
    "slideshow": {
     "slide_type": "slide"
    }
   },
   "outputs": [
    {
     "ename": "AttributeError",
     "evalue": "'int' object has no attribute '__dict__'",
     "output_type": "error",
     "traceback": [
      "\u001b[0;31m---------------------------------------------------------------------------\u001b[0m",
      "\u001b[0;31mAttributeError\u001b[0m                            Traceback (most recent call last)",
      "\u001b[0;32m<ipython-input-16-e501a8246971>\u001b[0m in \u001b[0;36m<module>\u001b[0;34m()\u001b[0m\n\u001b[1;32m      2\u001b[0m \u001b[0;31m# a.attr = 2\u001b[0m\u001b[0;34m\u001b[0m\u001b[0;34m\u001b[0m\u001b[0m\n\u001b[1;32m      3\u001b[0m \u001b[0;34m\u001b[0m\u001b[0m\n\u001b[0;32m----> 4\u001b[0;31m \u001b[0ma\u001b[0m\u001b[0;34m.\u001b[0m\u001b[0m__dict__\u001b[0m\u001b[0;34m\u001b[0m\u001b[0m\n\u001b[0m",
      "\u001b[0;31mAttributeError\u001b[0m: 'int' object has no attribute '__dict__'"
     ]
    }
   ],
   "source": [
    "a = 1\n",
    "# a.attr = 2\n",
    "\n",
    "a.__dict__"
   ]
  },
  {
   "cell_type": "markdown",
   "metadata": {
    "slideshow": {
     "slide_type": "slide"
    }
   },
   "source": [
    "### Классы\n",
    "- Способ обьединить данные и методы работы с ними за единой абстракцией\n",
    "- Объекты которые порождают другие обьекты при вызове\n",
    "- Модель объекта\n",
    "- Способ самостоятельно создавать типы\n",
    "\n",
    "Объекты = Экземпляры классов.\n",
    "\n",
    "int – класс ; 1, 2, 3 – объекты этого класса"
   ]
  },
  {
   "cell_type": "code",
   "execution_count": null,
   "metadata": {
    "collapsed": true
   },
   "outputs": [],
   "source": [
    "class A(object):\n",
    "    pass\n"
   ]
  },
  {
   "cell_type": "markdown",
   "metadata": {
    "slideshow": {
     "slide_type": "slide"
    }
   },
   "source": [
    "## Атрибуты класса"
   ]
  },
  {
   "cell_type": "code",
   "execution_count": 23,
   "metadata": {
    "slideshow": {
     "slide_type": "-"
    }
   },
   "outputs": [
    {
     "data": {
      "text/plain": [
       "(type, __main__.Bird)"
      ]
     },
     "execution_count": 23,
     "metadata": {},
     "output_type": "execute_result"
    }
   ],
   "source": [
    "class Bird(object):\n",
    "    kind = \"chickadee\"\n",
    "\n",
    "bird = Bird()\n",
    "type(Bird), type(bird)"
   ]
  },
  {
   "cell_type": "code",
   "execution_count": 24,
   "metadata": {},
   "outputs": [
    {
     "data": {
      "text/plain": [
       "mappingproxy({'__dict__': <attribute '__dict__' of 'Bird' objects>,\n",
       "              '__doc__': None,\n",
       "              '__module__': '__main__',\n",
       "              '__weakref__': <attribute '__weakref__' of 'Bird' objects>,\n",
       "              'kind': 'chickadee'})"
      ]
     },
     "execution_count": 24,
     "metadata": {},
     "output_type": "execute_result"
    }
   ],
   "source": [
    "Bird.__dict__"
   ]
  },
  {
   "cell_type": "code",
   "execution_count": 19,
   "metadata": {},
   "outputs": [
    {
     "data": {
      "text/plain": [
       "'chickadee'"
      ]
     },
     "execution_count": 19,
     "metadata": {},
     "output_type": "execute_result"
    }
   ],
   "source": [
    "Bird.kind"
   ]
  },
  {
   "cell_type": "code",
   "execution_count": 21,
   "metadata": {
    "slideshow": {
     "slide_type": "slide"
    }
   },
   "outputs": [
    {
     "data": {
      "text/plain": [
       "{}"
      ]
     },
     "execution_count": 21,
     "metadata": {},
     "output_type": "execute_result"
    }
   ],
   "source": [
    "bird.__dict__"
   ]
  },
  {
   "cell_type": "code",
   "execution_count": 22,
   "metadata": {},
   "outputs": [
    {
     "data": {
      "text/plain": [
       "'chickadee'"
      ]
     },
     "execution_count": 22,
     "metadata": {},
     "output_type": "execute_result"
    }
   ],
   "source": [
    "bird.kind"
   ]
  },
  {
   "cell_type": "code",
   "execution_count": 25,
   "metadata": {},
   "outputs": [
    {
     "data": {
      "text/plain": [
       "{'length': 10}"
      ]
     },
     "execution_count": 25,
     "metadata": {},
     "output_type": "execute_result"
    }
   ],
   "source": [
    "bird.length = 10\n",
    "bird.__dict__"
   ]
  },
  {
   "cell_type": "code",
   "execution_count": 27,
   "metadata": {
    "slideshow": {
     "slide_type": "fragment"
    }
   },
   "outputs": [
    {
     "data": {
      "text/plain": [
       "mappingproxy({'__dict__': <attribute '__dict__' of 'Bird' objects>,\n",
       "              '__doc__': None,\n",
       "              '__module__': '__main__',\n",
       "              '__weakref__': <attribute '__weakref__' of 'Bird' objects>,\n",
       "              'kind': 'chickadee'})"
      ]
     },
     "execution_count": 27,
     "metadata": {},
     "output_type": "execute_result"
    }
   ],
   "source": [
    "Bird.__dict__"
   ]
  },
  {
   "cell_type": "code",
   "execution_count": 30,
   "metadata": {
    "collapsed": true,
    "slideshow": {
     "slide_type": "slide"
    }
   },
   "outputs": [],
   "source": [
    "bird.__class__.length = 10"
   ]
  },
  {
   "cell_type": "code",
   "execution_count": 31,
   "metadata": {},
   "outputs": [
    {
     "data": {
      "text/plain": [
       "mappingproxy({'__dict__': <attribute '__dict__' of 'Bird' objects>,\n",
       "              '__doc__': None,\n",
       "              '__module__': '__main__',\n",
       "              '__weakref__': <attribute '__weakref__' of 'Bird' objects>,\n",
       "              'kind': 'chickadee',\n",
       "              'length': 10})"
      ]
     },
     "execution_count": 31,
     "metadata": {},
     "output_type": "execute_result"
    }
   ],
   "source": [
    "Bird.__dict__"
   ]
  },
  {
   "cell_type": "code",
   "execution_count": 5,
   "metadata": {
    "slideshow": {
     "slide_type": "subslide"
    }
   },
   "outputs": [
    {
     "data": {
      "text/plain": [
       "['John Silver', 'Billy Bones']"
      ]
     },
     "execution_count": 5,
     "metadata": {},
     "output_type": "execute_result"
    }
   ],
   "source": [
    "class Whatever(object):\n",
    "    pass\n",
    "\n",
    "w = Whatever()\n",
    "w.pirates = ['John Silver', 'Billy Bones']\n",
    "w.pirates"
   ]
  },
  {
   "cell_type": "markdown",
   "metadata": {
    "slideshow": {
     "slide_type": "slide"
    }
   },
   "source": [
    "### Методы класса"
   ]
  },
  {
   "cell_type": "code",
   "execution_count": 40,
   "metadata": {
    "slideshow": {
     "slide_type": "-"
    }
   },
   "outputs": [
    {
     "name": "stdout",
     "output_type": "stream",
     "text": [
      "Pew pew pew\n"
     ]
    }
   ],
   "source": [
    "class Bird(object):\n",
    "    def tweet(self):\n",
    "        print('Pew pew pew')\n",
    "        \n",
    "b = Bird()\n",
    "b.tweet()"
   ]
  },
  {
   "cell_type": "code",
   "execution_count": 41,
   "metadata": {
    "slideshow": {
     "slide_type": "-"
    }
   },
   "outputs": [
    {
     "ename": "TypeError",
     "evalue": "tweet() missing 1 required positional argument: 'self'",
     "output_type": "error",
     "traceback": [
      "\u001b[0;31m---------------------------------------------------------------------------\u001b[0m",
      "\u001b[0;31mTypeError\u001b[0m                                 Traceback (most recent call last)",
      "\u001b[0;32m<ipython-input-41-2c90c5050541>\u001b[0m in \u001b[0;36m<module>\u001b[0;34m()\u001b[0m\n\u001b[0;32m----> 1\u001b[0;31m \u001b[0mBird\u001b[0m\u001b[0;34m.\u001b[0m\u001b[0mtweet\u001b[0m\u001b[0;34m(\u001b[0m\u001b[0;34m)\u001b[0m\u001b[0;34m\u001b[0m\u001b[0m\n\u001b[0m",
      "\u001b[0;31mTypeError\u001b[0m: tweet() missing 1 required positional argument: 'self'"
     ]
    }
   ],
   "source": [
    "Bird.tweet()"
   ]
  },
  {
   "cell_type": "code",
   "execution_count": 42,
   "metadata": {
    "slideshow": {
     "slide_type": "subslide"
    }
   },
   "outputs": [
    {
     "name": "stdout",
     "output_type": "stream",
     "text": [
      "Pew pew pew\n"
     ]
    }
   ],
   "source": [
    "Bird.tweet(b)"
   ]
  },
  {
   "cell_type": "code",
   "execution_count": 44,
   "metadata": {},
   "outputs": [
    {
     "data": {
      "text/plain": [
       "(method, function)"
      ]
     },
     "execution_count": 44,
     "metadata": {},
     "output_type": "execute_result"
    }
   ],
   "source": [
    "type(b.tweet), type(Bird.tweet)"
   ]
  },
  {
   "cell_type": "markdown",
   "metadata": {
    "slideshow": {
     "slide_type": "slide"
    }
   },
   "source": [
    "### self\n",
    "\n",
    "Аналогичен this в C++ и Java, передаётся явно"
   ]
  },
  {
   "cell_type": "code",
   "execution_count": 19,
   "metadata": {
    "slideshow": {
     "slide_type": "-"
    }
   },
   "outputs": [
    {
     "name": "stdout",
     "output_type": "stream",
     "text": [
      "Tweet! It's 0 tweet totay!\n",
      "Tweet! It's 1 tweet totay!\n"
     ]
    },
    {
     "data": {
      "text/plain": [
       "(0, 2)"
      ]
     },
     "execution_count": 19,
     "metadata": {},
     "output_type": "execute_result"
    }
   ],
   "source": [
    "class Bird(object):\n",
    "    tweet_count = 0  # class atribute\n",
    "    \n",
    "    def tweet(self):\n",
    "        print(\"Tweet! It's {} tweet totay!\".format(self.tweet_count))\n",
    "        self.tweet_count += 1\n",
    "        \n",
    "b = Bird()\n",
    "b.tweet()\n",
    "b.tweet()\n",
    "\n",
    "Bird.tweet_count, b.tweet_count"
   ]
  },
  {
   "cell_type": "code",
   "execution_count": 51,
   "metadata": {
    "slideshow": {
     "slide_type": "slide"
    }
   },
   "outputs": [
    {
     "name": "stdout",
     "output_type": "stream",
     "text": [
      "['Joe']\n",
      "['Joe', 'Bill']\n"
     ]
    }
   ],
   "source": [
    "class CustomerList(object):\n",
    "    names = []\n",
    "    def add_customer(self, customer):\n",
    "        self.names.append(customer)\n",
    "        print(self.names)\n",
    "\n",
    "a, b = CustomerList(), CustomerList()\n",
    "\n",
    "a.add_customer('Joe')\n",
    "b.add_customer('Bill')"
   ]
  },
  {
   "cell_type": "markdown",
   "metadata": {
    "slideshow": {
     "slide_type": "slide"
    }
   },
   "source": [
    "### __init__"
   ]
  },
  {
   "cell_type": "code",
   "execution_count": 52,
   "metadata": {
    "slideshow": {
     "slide_type": "-"
    }
   },
   "outputs": [
    {
     "name": "stdout",
     "output_type": "stream",
     "text": [
      "['Joe']\n",
      "['Bill']\n"
     ]
    }
   ],
   "source": [
    "class CustomerList(object):\n",
    "    def __init__(self):\n",
    "        self.names = []  # object atributes\n",
    "\n",
    "    def add_customer(self, customer):\n",
    "        self.names.append(customer)\n",
    "        print(self.names)\n",
    "\n",
    "a, b = CustomerList(), CustomerList()\n",
    "\n",
    "a.add_customer('Joe')\n",
    "b.add_customer('Bill')"
   ]
  },
  {
   "cell_type": "code",
   "execution_count": 12,
   "metadata": {
    "slideshow": {
     "slide_type": "slide"
    }
   },
   "outputs": [
    {
     "data": {
      "text/plain": [
       "90"
      ]
     },
     "execution_count": 12,
     "metadata": {},
     "output_type": "execute_result"
    }
   ],
   "source": [
    "class Customer(object):\n",
    "    def __init__(self, name, balance=0):\n",
    "        self.name = name\n",
    "        self._balance = balance\n",
    "        \n",
    "    def withdraw(self, amount):\n",
    "        if amount < self._balance:\n",
    "            self._balance -= amount\n",
    "            return self._balance\n",
    "\n",
    "    def deposit(self, amount):\n",
    "        self._balance += amount\n",
    "        return self._balance\n",
    "\n",
    "c = Customer('Danny', 100)\n",
    "c.withdraw(10)"
   ]
  },
  {
   "cell_type": "markdown",
   "metadata": {
    "slideshow": {
     "slide_type": "slide"
    }
   },
   "source": [
    "## Именования _ __"
   ]
  },
  {
   "cell_type": "code",
   "execution_count": 21,
   "metadata": {
    "slideshow": {
     "slide_type": "-"
    }
   },
   "outputs": [
    {
     "name": "stdout",
     "output_type": "stream",
     "text": [
      "6\n",
      "2\n"
     ]
    }
   ],
   "source": [
    "class Car(object):\n",
    "    def __init__(self):\n",
    "        self._mile_per_liter = 6\n",
    "        self.__efficency_score = 2\n",
    "\n",
    "ford = Car()\n",
    "\n",
    "print(ford._mile_per_liter)\n",
    "print(ford.__dict__)\n"
   ]
  },
  {
   "cell_type": "markdown",
   "metadata": {
    "slideshow": {
     "slide_type": "slide"
    }
   },
   "source": [
    "### В копилку способов удивиться"
   ]
  },
  {
   "cell_type": "code",
   "execution_count": 29,
   "metadata": {},
   "outputs": [
    {
     "name": "stdout",
     "output_type": "stream",
     "text": [
      "second one\n"
     ]
    }
   ],
   "source": [
    "import datetime \n",
    "if datetime.datetime.now().second % 2:\n",
    "    class Test(object):\n",
    "        def call(self):\n",
    "            print('first one')\n",
    "else:\n",
    "    class Test(object):\n",
    "        def call(self):\n",
    "            print('second one')\n",
    "            \n",
    "t = Test()\n",
    "t.call()"
   ]
  },
  {
   "cell_type": "markdown",
   "metadata": {
    "slideshow": {
     "slide_type": "slide"
    }
   },
   "source": [
    "### Внутренние переменные"
   ]
  },
  {
   "cell_type": "code",
   "execution_count": 15,
   "metadata": {},
   "outputs": [
    {
     "name": "stdout",
     "output_type": "stream",
     "text": [
      "Nothing\n",
      "pure nothingness \n",
      "__main__\n"
     ]
    }
   ],
   "source": [
    "class Nothing(object):\n",
    "    \"\"\"pure nothingness \"\"\"\n",
    "    pass\n",
    "\n",
    "print(Nothing.__name__)\n",
    "print(Nothing.__doc__)\n",
    "print(Nothing.__module__)"
   ]
  },
  {
   "cell_type": "code",
   "execution_count": 16,
   "metadata": {},
   "outputs": [
    {
     "data": {
      "text/plain": [
       "mappingproxy({'__dict__': <attribute '__dict__' of 'Nothing' objects>,\n",
       "              '__doc__': 'pure nothingness ',\n",
       "              '__module__': '__main__',\n",
       "              '__weakref__': <attribute '__weakref__' of 'Nothing' objects>})"
      ]
     },
     "execution_count": 16,
     "metadata": {},
     "output_type": "execute_result"
    }
   ],
   "source": [
    "Nothing.__dict__"
   ]
  },
  {
   "cell_type": "code",
   "execution_count": 17,
   "metadata": {},
   "outputs": [
    {
     "data": {
      "text/plain": [
       "type"
      ]
     },
     "execution_count": 17,
     "metadata": {},
     "output_type": "execute_result"
    }
   ],
   "source": [
    "Nothing.__class__"
   ]
  },
  {
   "cell_type": "markdown",
   "metadata": {
    "slideshow": {
     "slide_type": "slide"
    }
   },
   "source": [
    "## \\_\\_dict\\_\\_\n",
    "Работа с полями объекта == работа с его \\_\\_dict\\_\\_"
   ]
  },
  {
   "cell_type": "code",
   "execution_count": 18,
   "metadata": {
    "slideshow": {
     "slide_type": "-"
    }
   },
   "outputs": [
    {
     "name": "stdout",
     "output_type": "stream",
     "text": [
      "{'__module__': '__main__', 'classvar': 'Hi!', '__init__': <function TestDict.__init__ at 0x107f64268>, '__dict__': <attribute '__dict__' of 'TestDict' objects>, '__weakref__': <attribute '__weakref__' of 'TestDict' objects>, '__doc__': None}\n",
      "Hi!\n",
      "{'objectvar': 42}\n"
     ]
    }
   ],
   "source": [
    "class TestDict(object):\n",
    "    classvar = 'Hi!'\n",
    "    def __init__(self):\n",
    "        self.objectvar = 42\n",
    "\n",
    "t = TestDict()\n",
    "print(TestDict.__dict__)\n",
    "print(TestDict.__dict__['classvar'])\n",
    "print(t.__dict__)"
   ]
  },
  {
   "cell_type": "markdown",
   "metadata": {
    "slideshow": {
     "slide_type": "slide"
    }
   },
   "source": [
    "## \\_\\_slots\\_\\_ *\n",
    "\n",
    "Фиксируют возможные поля в классе\n",
    "\n",
    "*редкая вещь"
   ]
  },
  {
   "cell_type": "code",
   "execution_count": 30,
   "metadata": {
    "collapsed": true
   },
   "outputs": [],
   "source": [
    "class TestSlots(object):\n",
    "    __slots__ = ['a', 'b']\n",
    "    def __init__(self):\n",
    "        self.a = 1\n",
    "        self.b = 42\n",
    "\n",
    "t = TestSlots()"
   ]
  },
  {
   "cell_type": "markdown",
   "metadata": {
    "slideshow": {
     "slide_type": "slide"
    }
   },
   "source": [
    "### Наследование"
   ]
  },
  {
   "cell_type": "code",
   "execution_count": 33,
   "metadata": {
    "collapsed": true
   },
   "outputs": [],
   "source": [
    "class Car(object):\n",
    "    def __init__(self, miles, model):\n",
    "        self.wheels = 4\n",
    "        self.miles = miles\n",
    "        self.model = model\n",
    "\n",
    "    def price(self):\n",
    "        return 6000 - (.1 * self.miles)\n",
    "\n",
    "    \n",
    "ford = Car(10000, 'Ford')\n",
    "toyota = Car(5000, 'Toyota')"
   ]
  },
  {
   "cell_type": "code",
   "execution_count": 34,
   "metadata": {
    "collapsed": true,
    "slideshow": {
     "slide_type": "subslide"
    }
   },
   "outputs": [],
   "source": [
    "class Car(object):\n",
    "    def __init__(self, miles, model):\n",
    "        self.wheels = 4\n",
    "        self.miles = miles\n",
    "        self.model = model\n",
    "\n",
    "    def price(self):\n",
    "        return 6000 - (.1 * self.miles)\n",
    "\n",
    "    \n",
    "class Truck(object):\n",
    "    def __init__(self, wheels, miles, model):\n",
    "        self.wheels = wheels\n",
    "        self.miles = miles\n",
    "        self.model = model\n",
    "        \n",
    "    def price(self):\n",
    "        return 10000 - (.1 * self.miles)"
   ]
  },
  {
   "cell_type": "code",
   "execution_count": 148,
   "metadata": {
    "collapsed": true,
    "slideshow": {
     "slide_type": "subslide"
    }
   },
   "outputs": [],
   "source": [
    "class Vehicle(object):\n",
    "    def __init__(self, wheels, miles, model, base_price):\n",
    "        self.wheels = wheels\n",
    "        self.miles = miles\n",
    "        self.model = model\n",
    "        self.base_price = base_price\n",
    "    \n",
    "    def price(self):\n",
    "        return self.base_price - (.10 * self.miles)\n",
    "    \n",
    "Ford = Vehicle(4, 10000, 'Ford', 6000)"
   ]
  },
  {
   "cell_type": "markdown",
   "metadata": {
    "slideshow": {
     "slide_type": "slide"
    }
   },
   "source": [
    "### Наследование 1"
   ]
  },
  {
   "cell_type": "code",
   "execution_count": 36,
   "metadata": {},
   "outputs": [
    {
     "data": {
      "text/plain": [
       "9999.5"
      ]
     },
     "execution_count": 36,
     "metadata": {},
     "output_type": "execute_result"
    }
   ],
   "source": [
    "class Vehicle(object):\n",
    "    def __init__(self, wheels, miles, model, base_price):\n",
    "        self.wheels = wheels\n",
    "        self.miles = miles\n",
    "        self.model = model\n",
    "        self.base_price = base_price\n",
    "    \n",
    "    def price(self):\n",
    "        return self.base_price - (.1 * self.miles)\n",
    "\n",
    "class Car(Vehicle):\n",
    "    def __init__(self, miles, model):\n",
    "        self.wheels = 4\n",
    "        self.miles = miles\n",
    "        self.model = model\n",
    "        self.base_price = 10000\n",
    "\n",
    "Car(5, 'Tesla').price()"
   ]
  },
  {
   "cell_type": "markdown",
   "metadata": {
    "slideshow": {
     "slide_type": "slide"
    }
   },
   "source": [
    "### Наследование 2"
   ]
  },
  {
   "cell_type": "code",
   "execution_count": 26,
   "metadata": {
    "collapsed": true
   },
   "outputs": [],
   "source": [
    "class Vehicle(object):\n",
    "    def __init__(self, wheels, miles, model, base_price):\n",
    "        self.wheels = wheels\n",
    "        self.miles = miles\n",
    "        self.model = model\n",
    "        self.base_price = base_price\n",
    "    \n",
    "    def price(self):\n",
    "        return self.base_price - (.10 * self.miles)\n",
    "\n",
    "class Car(Vehicle):\n",
    "    def __init__(self, miles, model):\n",
    "        Vehicle.__init__(self, 4, miles, model, 10000)\n",
    "\n",
    "c = Car(5, 'Tesla') "
   ]
  },
  {
   "cell_type": "markdown",
   "metadata": {
    "slideshow": {
     "slide_type": "slide"
    }
   },
   "source": [
    "### Наследование 3"
   ]
  },
  {
   "cell_type": "code",
   "execution_count": 27,
   "metadata": {
    "collapsed": true
   },
   "outputs": [],
   "source": [
    "class Vehicle(object):\n",
    "    base_price = 0\n",
    "    def __init__(self, wheels, miles, model):\n",
    "        self.wheels = wheels\n",
    "        self.miles = miles\n",
    "        self.model = model\n",
    "    \n",
    "    def price(self):\n",
    "        return self.base_price - (.10 * self.miles)\n",
    "\n",
    "class Car(Vehicle):\n",
    "    base_price = 6000\n",
    "    def __init__(self, miles, model):\n",
    "        Vehicle.__init__(self, 4, miles, model)\n",
    "\n",
    "class Truck(Vehicle):\n",
    "    base_price = 10000\n",
    "\n",
    "\n",
    "c = Car(5000, 'Tesla')\n",
    "c = Truck(8, 1000, 'Otto')"
   ]
  },
  {
   "cell_type": "markdown",
   "metadata": {
    "slideshow": {
     "slide_type": "slide"
    }
   },
   "source": [
    "### Наследование : Trivia\n",
    "\n",
    "- У класса может быть один или несколько предков (по умолчанию один - object)\n",
    "- При обращении к полям и методам обьекта Python пытается найти в самом объекте (== в его \\_\\_dict\\_\\_), потом в его классе, потом в его предках в порядке называемом MRO (Method resolution order) (описание алгоритма https://en.wikipedia.org/wiki/C3_linearization)\n",
    "- Посмотреть MRO обьекта можно позвав метод .mro()"
   ]
  },
  {
   "cell_type": "code",
   "execution_count": 28,
   "metadata": {},
   "outputs": [
    {
     "data": {
      "text/plain": [
       "[__main__.A, object]"
      ]
     },
     "execution_count": 28,
     "metadata": {},
     "output_type": "execute_result"
    }
   ],
   "source": [
    "class A(object):\n",
    "    pass\n",
    "\n",
    "A.mro()"
   ]
  },
  {
   "cell_type": "markdown",
   "metadata": {
    "slideshow": {
     "slide_type": "slide"
    }
   },
   "source": [
    "### Diamond Inheritance problems"
   ]
  },
  {
   "cell_type": "code",
   "execution_count": 150,
   "metadata": {
    "slideshow": {
     "slide_type": "-"
    }
   },
   "outputs": [
    {
     "name": "stdout",
     "output_type": "stream",
     "text": [
      "Platypus::Init\n",
      "Mammal::Init\n",
      "Animal::Init\n",
      "Swimming::Init\n",
      "Animal::Init\n"
     ]
    },
    {
     "data": {
      "text/plain": [
       "0"
      ]
     },
     "execution_count": 150,
     "metadata": {},
     "output_type": "execute_result"
    }
   ],
   "source": [
    "class Animal(object):\n",
    "    def __init__(self):\n",
    "        print('Animal::Init')\n",
    "        self.legs = 0\n",
    "        \n",
    "class Mammal(Animal):\n",
    "    def __init__(self):\n",
    "        print('Mammal::Init')\n",
    "        Animal.__init__(self)\n",
    "        self.legs = 4\n",
    "        \n",
    "class Swimming(Animal): \n",
    "    def __init__(self): \n",
    "        print('Swimming::Init')\n",
    "        Animal.__init__(self)\n",
    "        self.can_swim = True\n",
    "        \n",
    "class Platypus(Mammal, Swimming):\n",
    "    def __init__(self):\n",
    "        print('Platypus::Init')\n",
    "        Mammal.__init__(self)\n",
    "        Swimming.__init__(self)\n",
    "         \n",
    "        \n",
    "Joe = Platypus()\n",
    "Joe.legs"
   ]
  },
  {
   "cell_type": "markdown",
   "metadata": {
    "slideshow": {
     "slide_type": "slide"
    }
   },
   "source": [
    "### super"
   ]
  },
  {
   "cell_type": "code",
   "execution_count": 43,
   "metadata": {},
   "outputs": [
    {
     "name": "stdout",
     "output_type": "stream",
     "text": [
      "Platypus::Init\n",
      "Mammal::Init\n",
      "Swimming::Init\n",
      "Animal::Init\n"
     ]
    }
   ],
   "source": [
    "class Animal(object):\n",
    "    def __init__(self):\n",
    "        print('Animal::Init')\n",
    "        self.legs = 0\n",
    "        \n",
    "class Mammal(Animal):\n",
    "    def __init__(self, legs, **kwargs):\n",
    "        print('Mammal::Init')\n",
    "        super().__init__(**kwargs)\n",
    "        self.legs = legs\n",
    "        \n",
    "class Swimming(Animal):\n",
    "    def __init__(self, can_swim=True):\n",
    "        print('Swimming::Init')\n",
    "        super().__init__()\n",
    "        self.can_swim = can_swim\n",
    "\n",
    "        \n",
    "class Platypus(Mammal, Swimming):\n",
    "    def __init__(self, legs=4, can_swim=True):\n",
    "        print('Platypus::Init')\n",
    "        super().__init__(legs, can_swim=can_swim)\n",
    "        \n",
    "        \n",
    "Joe = Platypus(legs=3, can_swim=False)\n",
    "# Platypus.mro()"
   ]
  },
  {
   "cell_type": "markdown",
   "metadata": {
    "slideshow": {
     "slide_type": "slide"
    }
   },
   "source": [
    "### Полезные предикаты"
   ]
  },
  {
   "cell_type": "code",
   "execution_count": 186,
   "metadata": {
    "slideshow": {
     "slide_type": "-"
    }
   },
   "outputs": [
    {
     "data": {
      "text/plain": [
       "True"
      ]
     },
     "execution_count": 186,
     "metadata": {},
     "output_type": "execute_result"
    }
   ],
   "source": [
    "isinstance(Joe, Platypus)"
   ]
  },
  {
   "cell_type": "code",
   "execution_count": 199,
   "metadata": {},
   "outputs": [
    {
     "data": {
      "text/plain": [
       "True"
      ]
     },
     "execution_count": 199,
     "metadata": {},
     "output_type": "execute_result"
    }
   ],
   "source": [
    "isinstance(Joe,  Animal)  # second arguemnts could be tuple"
   ]
  },
  {
   "cell_type": "code",
   "execution_count": 188,
   "metadata": {},
   "outputs": [
    {
     "data": {
      "text/plain": [
       "True"
      ]
     },
     "execution_count": 188,
     "metadata": {},
     "output_type": "execute_result"
    }
   ],
   "source": [
    "issubclass(Platypus, Animal)"
   ]
  },
  {
   "cell_type": "markdown",
   "metadata": {
    "slideshow": {
     "slide_type": "slide"
    }
   },
   "source": [
    "## Магические методы классов\n",
    "\n",
    "Магические методы классов -- это методы придающие им какие-то свойства. Их имена начинаются с с двух подчеркиваний, например -- метод \\_\\_init\\_\\_. Вызов магических методов в интерпретаторе происходит неявно."
   ]
  },
  {
   "cell_type": "code",
   "execution_count": 34,
   "metadata": {
    "collapsed": true
   },
   "outputs": [],
   "source": [
    "class Bananas(object):\n",
    "    def __init__(self, count=4):\n",
    "        self.count = count"
   ]
  },
  {
   "cell_type": "code",
   "execution_count": 35,
   "metadata": {
    "slideshow": {
     "slide_type": "slide"
    }
   },
   "outputs": [
    {
     "name": "stdout",
     "output_type": "stream",
     "text": [
      "6 bananas!\n"
     ]
    },
    {
     "data": {
      "text/plain": [
       "Bananas(6)"
      ]
     },
     "execution_count": 35,
     "metadata": {},
     "output_type": "execute_result"
    }
   ],
   "source": [
    "class Bananas(object):\n",
    "    def __init__(self, count=4):\n",
    "        self.count = count\n",
    "    def __str__(self):\n",
    "        return '{} bananas!'.format(self.count)\n",
    "    def __repr__(self):\n",
    "        return 'Bananas({})'.format(self.count)\n",
    "\n",
    "b = Bananas(6)\n",
    "\n",
    "print(b)\n",
    "b"
   ]
  },
  {
   "cell_type": "code",
   "execution_count": 48,
   "metadata": {
    "slideshow": {
     "slide_type": "slide"
    }
   },
   "outputs": [
    {
     "name": "stdout",
     "output_type": "stream",
     "text": [
      "10 bananas!\n"
     ]
    },
    {
     "data": {
      "text/plain": [
       "True"
      ]
     },
     "execution_count": 48,
     "metadata": {},
     "output_type": "execute_result"
    }
   ],
   "source": [
    "class Bananas(object):\n",
    "    def __init__(self, count=4):\n",
    "        self.count = count\n",
    "    def __str__(self):\n",
    "        return '{} bananas!'.format(self.count)\n",
    "    def __repr__(self):\n",
    "        return 'Bananas({})'.format(self.count)\n",
    "    def __add__(self, other):\n",
    "        return Bananas(self.count + other.count)\n",
    "    def __iadd__(self, other):\n",
    "        self.count += other.count  # be aware of the semantics\n",
    "        return self\n",
    "\n",
    "print(Bananas(6) + Bananas(4))\n",
    "b1 = Bananas(4)\n",
    "b2 = b1\n",
    "b1 += Bananas(3)\n",
    "b1 is b2"
   ]
  },
  {
   "cell_type": "markdown",
   "metadata": {
    "slideshow": {
     "slide_type": "slide"
    }
   },
   "source": [
    "### Сравнение"
   ]
  },
  {
   "cell_type": "code",
   "execution_count": 214,
   "metadata": {},
   "outputs": [
    {
     "name": "stdout",
     "output_type": "stream",
     "text": [
      "False\n",
      "True\n"
     ]
    }
   ],
   "source": [
    "class Bananas(object):\n",
    "    def __init__(self, count=4):\n",
    "        self.count = count\n",
    "    def __repr__(self):\n",
    "        return 'Bananas({})'.format(self.count)\n",
    "\n",
    "    def __lt__(self, other):   #  __gt__ __le__  __ge__\n",
    "        return self.count < other.count\n",
    "    \n",
    "    def __eq__(self, other):    \n",
    "        return self.count == other.count\n",
    "\n",
    "        \n",
    "print(Bananas(5) < Bananas(3))\n",
    "print(Bananas(5) == Bananas(5))"
   ]
  },
  {
   "cell_type": "markdown",
   "metadata": {
    "slideshow": {
     "slide_type": "slide"
    }
   },
   "source": [
    "### Арифметика"
   ]
  },
  {
   "cell_type": "code",
   "execution_count": 49,
   "metadata": {},
   "outputs": [
    {
     "ename": "TypeError",
     "evalue": "unsupported operand type(s) for +=: 'Bananas' and 'Bananas'",
     "output_type": "error",
     "traceback": [
      "\u001b[0;31m---------------------------------------------------------------------------\u001b[0m",
      "\u001b[0;31mTypeError\u001b[0m                                 Traceback (most recent call last)",
      "\u001b[0;32m<ipython-input-49-06a8e2a5d3a8>\u001b[0m in \u001b[0;36m<module>\u001b[0;34m()\u001b[0m\n\u001b[1;32m     13\u001b[0m \u001b[0;34m\u001b[0m\u001b[0m\n\u001b[1;32m     14\u001b[0m \u001b[0ma\u001b[0m \u001b[0;34m=\u001b[0m \u001b[0mBananas\u001b[0m\u001b[0;34m(\u001b[0m\u001b[0;36m4\u001b[0m\u001b[0;34m)\u001b[0m\u001b[0;34m\u001b[0m\u001b[0m\n\u001b[0;32m---> 15\u001b[0;31m \u001b[0ma\u001b[0m \u001b[0;34m+=\u001b[0m \u001b[0mBananas\u001b[0m\u001b[0;34m(\u001b[0m\u001b[0;36m5\u001b[0m\u001b[0;34m)\u001b[0m\u001b[0;34m\u001b[0m\u001b[0m\n\u001b[0m\u001b[1;32m     16\u001b[0m \u001b[0ma\u001b[0m \u001b[0;34m*\u001b[0m \u001b[0;36m2\u001b[0m\u001b[0;34m\u001b[0m\u001b[0m\n",
      "\u001b[0;31mTypeError\u001b[0m: unsupported operand type(s) for +=: 'Bananas' and 'Bananas'"
     ]
    }
   ],
   "source": [
    "class Bananas(object):\n",
    "    def __init__(self, count=4):\n",
    "        self.count = count\n",
    "    def __repr__(self):\n",
    "        return 'Bananas({})'.format(self.count)\n",
    "    def __add__(self, other):   #  __gt__ __le__  __ge__\n",
    "        return Bananas(self.count + other.count)\n",
    "    def __mul__(self, mult):\n",
    "        if isinstance(mult, int):\n",
    "            return Bananas(self.count * mult)\n",
    "        else:\n",
    "            raise NotImplementedError\n",
    "\n",
    "a = Bananas(4)\n",
    "a += Bananas(5) \n",
    "a * 2"
   ]
  },
  {
   "cell_type": "markdown",
   "metadata": {
    "slideshow": {
     "slide_type": "slide"
    }
   },
   "source": [
    "### Преобразование типов"
   ]
  },
  {
   "cell_type": "code",
   "execution_count": 68,
   "metadata": {},
   "outputs": [
    {
     "name": "stdout",
     "output_type": "stream",
     "text": [
      "11\n"
     ]
    }
   ],
   "source": [
    "class Bananas(object):\n",
    "    def __init__(self, count=4):\n",
    "        self.count = count\n",
    "    def __repr__(self):\n",
    "        return 'Bananas({})'.format(self.count)\n",
    "    def __str__(self):\n",
    "        return '{} Bananas!'.format(self.count)\n",
    "    def __int__(self):\n",
    "        return self.count\n",
    "    def __bool__(self):\n",
    "        return self.count > 0\n",
    "    \n",
    "b = Bananas(9)\n",
    "if b:\n",
    "    print(int(b) + 2)"
   ]
  },
  {
   "cell_type": "markdown",
   "metadata": {
    "slideshow": {
     "slide_type": "slide"
    }
   },
   "source": [
    "### format"
   ]
  },
  {
   "cell_type": "code",
   "execution_count": 123,
   "metadata": {},
   "outputs": [
    {
     "data": {
      "text/plain": [
       "'Some bananas for you : 🍌🍌🍌🍌🍌🍌🍌🍌🍌🍌🍌🍌🍌🍌🍌🍌🍌🍌🍌🍌🍌🍌🍌🍌🍌🍌🍌🍌🍌🍌🍌🍌🍌🍌🍌🍌🍌🍌🍌🍌🍌🍌🍌🍌🍌🍌🍌🍌🍌🍌🍌🍌🍌🍌🍌🍌🍌🍌🍌🍌🍌🍌🍌🍌🍌🍌🍌🍌🍌🍌🍌🍌🍌🍌🍌🍌🍌🍌🍌🍌🍌🍌🍌🍌🍌🍌🍌🍌🍌🍌🍌🍌🍌🍌🍌🍌🍌🍌🍌🍌🍌🍌🍌🍌🍌🍌🍌🍌🍌🍌🍌🍌🍌🍌🍌🍌🍌🍌🍌🍌🍌🍌🍌🍌🍌🍌🍌🍌🍌🍌🍌🍌🍌🍌🍌🍌🍌🍌🍌🍌🍌🍌🍌🍌🍌🍌🍌🍌🍌🍌'"
      ]
     },
     "execution_count": 123,
     "metadata": {},
     "output_type": "execute_result"
    }
   ],
   "source": [
    "class Bananas(object):\n",
    "    def __init__(self, count=4):\n",
    "        self.count = count\n",
    "    def __repr__(self):\n",
    "        return 'Bananas({})'.format(self.count)    \n",
    "    def __format__(self, fstr):\n",
    "        if fstr == 'pretty':\n",
    "            return '🍌' * self.count\n",
    "        else:\n",
    "            return repr(self)\n",
    "    \n",
    "'Some bananas for you : {:pretty}'.format(Bananas(150))"
   ]
  },
  {
   "cell_type": "markdown",
   "metadata": {
    "slideshow": {
     "slide_type": "slide"
    }
   },
   "source": [
    "### Хеширование"
   ]
  },
  {
   "cell_type": "code",
   "execution_count": 61,
   "metadata": {},
   "outputs": [
    {
     "data": {
      "text/plain": [
       "{Bananas(0), Bananas(1), Bananas(2)}"
      ]
     },
     "execution_count": 61,
     "metadata": {},
     "output_type": "execute_result"
    }
   ],
   "source": [
    "class Bananas(object):\n",
    "    def __init__(self, count=4):\n",
    "        self.count = count\n",
    "        \n",
    "    def __repr__(self):\n",
    "        return 'Bananas({})'.format(self.count)\n",
    "    def __hash__(self):\n",
    "        return self.count \n",
    "    def __eq__(self, other):\n",
    "        return self.count == other.count\n",
    "\n",
    "s = set()\n",
    "\n",
    "for i in range(6):\n",
    "    banana = Bananas(i // 2)\n",
    "    s.add(banana)\n",
    "\n",
    "s"
   ]
  },
  {
   "cell_type": "markdown",
   "metadata": {
    "slideshow": {
     "slide_type": "slide"
    }
   },
   "source": [
    "### Вызов : call"
   ]
  },
  {
   "cell_type": "code",
   "execution_count": 62,
   "metadata": {},
   "outputs": [
    {
     "name": "stdout",
     "output_type": "stream",
     "text": [
      "1904.9409439665053\n"
     ]
    }
   ],
   "source": [
    "from math import factorial, sqrt\n",
    "\n",
    "class Pipeline(object):\n",
    "    def __init__(self, *args):\n",
    "        self.funcs = args\n",
    "        \n",
    "    def __call__(self, x):\n",
    "        for func in self.funcs:\n",
    "            x = func(x)\n",
    "        return x\n",
    "    \n",
    "p = Pipeline(factorial, sqrt, print)\n",
    "\n",
    "p(10)"
   ]
  },
  {
   "cell_type": "markdown",
   "metadata": {
    "slideshow": {
     "slide_type": "slide"
    }
   },
   "source": [
    "### Доступ к элементам : getitem, setitem, len"
   ]
  },
  {
   "cell_type": "code",
   "execution_count": 69,
   "metadata": {},
   "outputs": [
    {
     "name": "stdout",
     "output_type": "stream",
     "text": [
      "1\n",
      "2\n",
      "3\n"
     ]
    }
   ],
   "source": [
    "class Sum(object):\n",
    "    def __init__(self, summands):\n",
    "        self.summands = summands\n",
    "        self.total = sum(summands) \n",
    "    def __len__(self):\n",
    "        return len(self.summands)\n",
    "    def __str__(self):\n",
    "        return(' + '.join(map(str, self.summands)) + ' = {}'.format(self.total))\n",
    "    def __getitem__(self, i):\n",
    "        return self.summands[i]\n",
    "    def __setitem__(self, i, value):\n",
    "        self.total -= self.summands[i] - value\n",
    "        self.summands[i] = value\n",
    "    \n",
    "s = Sum([1, 2 ,3])\n",
    "\n",
    "for elem in s:\n",
    "     print(elem)\n"
   ]
  },
  {
   "cell_type": "markdown",
   "metadata": {
    "slideshow": {
     "slide_type": "subslide"
    }
   },
   "source": [
    "### Пример"
   ]
  },
  {
   "cell_type": "code",
   "execution_count": 128,
   "metadata": {},
   "outputs": [
    {
     "name": "stdout",
     "output_type": "stream",
     "text": [
      "Setting name to Bond\n",
      "Setting name to James Bond\n"
     ]
    }
   ],
   "source": [
    "class LoggingDict(dict):\n",
    "    def __setitem__(self, key, value):\n",
    "        print('Setting {} to {}'.format(key, value))\n",
    "        super().__setitem__(key, value)\n",
    "        \n",
    "d = LoggingDict()\n",
    "\n",
    "d['name'] = 'Bond'\n",
    "d['name'] = 'James Bond' "
   ]
  },
  {
   "cell_type": "code",
   "execution_count": 131,
   "metadata": {
    "collapsed": true
   },
   "outputs": [],
   "source": [
    "import collections\n",
    "\n",
    "class LoggingOD(LoggingDict, collections.OrderedDict):\n",
    "    pass\n",
    "\n",
    "d = LoggingOD()"
   ]
  },
  {
   "cell_type": "markdown",
   "metadata": {
    "slideshow": {
     "slide_type": "slide"
    }
   },
   "source": [
    "### Доступ к атрибутам : getattr, setattr, delattr"
   ]
  },
  {
   "cell_type": "code",
   "execution_count": 71,
   "metadata": {},
   "outputs": [
    {
     "name": "stdout",
     "output_type": "stream",
     "text": [
      "2\n"
     ]
    },
    {
     "data": {
      "text/plain": [
       "'No such attribute'"
      ]
     },
     "execution_count": 71,
     "metadata": {},
     "output_type": "execute_result"
    }
   ],
   "source": [
    "class StorageBox(object):\n",
    "    def __getattr__(self, attr):\n",
    "        return 'No such attribute'\n",
    "    \n",
    "    def __setattr__(self, attr, value):\n",
    "        self.__dict__[attr] = value\n",
    "        \n",
    "    def __delattr__(self, attr):\n",
    "        del self.__dict__[attr]\n",
    "    \n",
    "s = StorageBox()\n",
    "s.test = 2\n",
    "print(s.test)\n",
    "del s.test\n",
    "s.test"
   ]
  },
  {
   "cell_type": "markdown",
   "metadata": {
    "slideshow": {
     "slide_type": "slide"
    }
   },
   "source": [
    "### getattr как функция"
   ]
  },
  {
   "cell_type": "code",
   "execution_count": 109,
   "metadata": {},
   "outputs": [
    {
     "data": {
      "text/plain": [
       "'John Silver'"
      ]
     },
     "execution_count": 109,
     "metadata": {},
     "output_type": "execute_result"
    }
   ],
   "source": [
    "class Parrot(object):\n",
    "    name = 'John Silver'\n",
    "    \n",
    "a = Parrot()\n",
    "\n",
    "getattr(a, 'name')"
   ]
  },
  {
   "cell_type": "markdown",
   "metadata": {
    "slideshow": {
     "slide_type": "slide"
    }
   },
   "source": [
    "### Доступ к атрибутам 2 -- getattribute\n",
    "\n",
    "getattribute вызывается ДО поиска атрибутов в классе "
   ]
  },
  {
   "cell_type": "code",
   "execution_count": 72,
   "metadata": {},
   "outputs": [
    {
     "name": "stdout",
     "output_type": "stream",
     "text": [
      "All your base are belong to us\n"
     ]
    },
    {
     "data": {
      "text/plain": [
       "'No such attr'"
      ]
     },
     "execution_count": 72,
     "metadata": {},
     "output_type": "execute_result"
    }
   ],
   "source": [
    "class Store(object):\n",
    "    a = 1\n",
    "    b = 2\n",
    "    \n",
    "    def __getattr__(self, attr):\n",
    "        return 'No such attr'\n",
    "    \n",
    "    def __getattribute__(self, attr):\n",
    "        print('All your base are belong to us')\n",
    "#         return 42\n",
    "        return super().__getattribute__(attr)\n",
    "    \n",
    "    \n",
    "        \n",
    "Store().c"
   ]
  },
  {
   "cell_type": "markdown",
   "metadata": {
    "slideshow": {
     "slide_type": "slide"
    }
   },
   "source": [
    "# Декораторы классов\n",
    "\n",
    "Декораторы можно использовать и с классами\n",
    "\n",
    "В таком случае декоратору будет передан класс после его создания, вернуть надо будет тоже класс"
   ]
  },
  {
   "cell_type": "code",
   "execution_count": 77,
   "metadata": {
    "slideshow": {
     "slide_type": "subslide"
    }
   },
   "outputs": [
    {
     "name": "stdout",
     "output_type": "stream",
     "text": [
      "This is 1 object of A\n",
      "This is 2 object of A\n"
     ]
    },
    {
     "data": {
      "text/plain": [
       "<__main__.A at 0x106902ba8>"
      ]
     },
     "execution_count": 77,
     "metadata": {},
     "output_type": "execute_result"
    }
   ],
   "source": [
    "def counted(cls):\n",
    "    count = 0\n",
    "    old_init = cls.__init__\n",
    "\n",
    "    def init(self, *args, **kwargs):\n",
    "        nonlocal count\n",
    "        count += 1\n",
    "        print('This is {} object of {}'.format(count, cls.__name__))\n",
    "        return old_init(self, *args, **kwargs)\n",
    "\n",
    "    cls.__init__ = init\n",
    "    return cls\n",
    "\n",
    "@counted  # meta-programming in style\n",
    "class A(object):\n",
    "    pass\n",
    "\n",
    "A()\n",
    "A()"
   ]
  },
  {
   "cell_type": "markdown",
   "metadata": {
    "slideshow": {
     "slide_type": "slide"
    }
   },
   "source": [
    "### Singleton"
   ]
  },
  {
   "cell_type": "code",
   "execution_count": 91,
   "metadata": {
    "collapsed": true,
    "slideshow": {
     "slide_type": "-"
    }
   },
   "outputs": [],
   "source": [
    "def singleton(cls):\n",
    "    instance = None\n",
    "    \n",
    "    @functools.wraps(cls)\n",
    "    def inner(*args, **kwargs):\n",
    "        nonlocal instance\n",
    "        if instance is None:\n",
    "            instance = cls(*args, **kwargs)\n",
    "        return instance\n",
    "    return inner\n",
    "\n"
   ]
  },
  {
   "cell_type": "code",
   "execution_count": 181,
   "metadata": {
    "slideshow": {
     "slide_type": "subslide"
    }
   },
   "outputs": [
    {
     "data": {
      "text/plain": [
       "True"
      ]
     },
     "execution_count": 181,
     "metadata": {},
     "output_type": "execute_result"
    }
   ],
   "source": [
    "@singleton\n",
    "class A:\n",
    "    pass\n",
    "\n",
    "A() is A()"
   ]
  },
  {
   "cell_type": "markdown",
   "metadata": {
    "slideshow": {
     "slide_type": "subslide"
    }
   },
   "source": [
    "### Декораторам необязательно быть функциями"
   ]
  },
  {
   "cell_type": "code",
   "execution_count": null,
   "metadata": {
    "collapsed": true
   },
   "outputs": [],
   "source": [
    "\n",
    "\n",
    "from collections import Counter \n",
    "class Register(object):\n",
    "    def __init__(self):\n",
    "        self.stat = Counter()\n",
    "        \n",
    "    def __call__(self, func):\n",
    "        nm = func.__name__\n",
    "        def wrapper(*args, **kwrags):\n",
    "            self.stat[nm] += 1\n",
    "            return func(*args, **kwrags)\n",
    "        return wrapper\n",
    "    \n",
    "    def __str__(self):\n",
    "        result = 'fname\\tcallcount\\n'\n",
    "        for name, count in self.stat.items():\n",
    "            result += '{}:\\t{}\\n'.format(name, count)\n",
    "        return result\n",
    "    \n",
    "register = Register()\n",
    "\n",
    "\n",
    "@register\n",
    "def f(x):\n",
    "    return x \n",
    "\n",
    "@register\n",
    "def q(x):\n",
    "    return x\n",
    "\n",
    "f(1), q(2), q(4)\n",
    "q(2), f(5)\n",
    "print(register)"
   ]
  }
 ],
 "metadata": {
  "celltoolbar": "Slideshow",
  "kernelspec": {
   "display_name": "Python 3",
   "language": "python",
   "name": "python3"
  },
  "language_info": {
   "codemirror_mode": {
    "name": "ipython",
    "version": 3
   },
   "file_extension": ".py",
   "mimetype": "text/x-python",
   "name": "python",
   "nbconvert_exporter": "python",
   "pygments_lexer": "ipython3",
   "version": "3.6.6"
  },
  "livereveal": {
   "theme": "Serif",
   "transition": "fade"
  }
 },
 "nbformat": 4,
 "nbformat_minor": 2
}
