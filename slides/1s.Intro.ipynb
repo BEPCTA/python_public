{
 "cells": [
  {
   "cell_type": "markdown",
   "metadata": {
    "slideshow": {
     "slide_type": "slide"
    }
   },
   "source": [
    "# Python Intro\n",
    "## Shell basics / git / ssh / pytest / pyenv"
   ]
  },
  {
   "cell_type": "markdown",
   "metadata": {
    "slideshow": {
     "slide_type": "slide"
    }
   },
   "source": [
    "# Shell"
   ]
  },
  {
   "cell_type": "markdown",
   "metadata": {
    "slideshow": {
     "slide_type": "slide"
    }
   },
   "source": [
    "![bash](http://www.gauravkgupta.com/wp-content/uploads/2016/12/435539-635941616918679930-16x9.jpg)"
   ]
  },
  {
   "cell_type": "markdown",
   "metadata": {
    "slideshow": {
     "slide_type": "-"
    }
   },
   "source": [
    "Unix shell — командный интерпретатор, используемый в операционных системах семейства Unix, в котором пользователь может либо давать команды операционной системе по отдельности, либо запускать скрипты, состоящие из списка команд"
   ]
  },
  {
   "cell_type": "markdown",
   "metadata": {
    "slideshow": {
     "slide_type": "slide"
    }
   },
   "source": [
    "Базовые вещи:\n",
    "- `Ctrl + Alt + T` — открыть терминал\n",
    "- регистрозависимость: `ls`, `Ls` — это разные команды\n",
    "- пробелы важны: `echo \"file name\"`, `echo file\\ name`\n",
    "- `tab` для автокомплита\n",
    "- история комманд: с помощью стрелок на клавиатуре или поиском по `Ctrl + R`, либо команда `history`\n",
    "- `Ctrl + Shift + C` / `Ctrl + Shift + V` — копировать / вставить"
   ]
  },
  {
   "cell_type": "markdown",
   "metadata": {
    "slideshow": {
     "slide_type": "fragment"
    }
   },
   "source": [
    "Помощь:\n",
    "- `man`\n",
    "- `-h` / `--help`"
   ]
  },
  {
   "cell_type": "markdown",
   "metadata": {
    "slideshow": {
     "slide_type": "slide"
    }
   },
   "source": [
    "Навигация:\n",
    "- `ls` — содержимое текущей директории\n",
    "- `cd` — сменить текущую директорию\n",
    "- `pwd` — вывести текущую директорию\n",
    "- `find` — поиск файлов / директорий"
   ]
  },
  {
   "cell_type": "markdown",
   "metadata": {
    "slideshow": {
     "slide_type": "fragment"
    }
   },
   "source": [
    "Специальные названия:\n",
    "- `.` — текущая директория\n",
    "- `..` — родительская директория\n",
    "- `~` — домашняя директория текущего пользователя, обычно `/home/<username>`\n",
    "- `*` (glob) — любой набор символов: `example*` — это, например, файлы вида `example1`, `example.py`, `example42`"
   ]
  },
  {
   "cell_type": "markdown",
   "metadata": {
    "slideshow": {
     "slide_type": "slide"
    }
   },
   "source": [
    "Редактирование:\n",
    "- `mkdir` — создать директорию\n",
    "- `rmdir` — удалить пустую директорию\n",
    "- `touch` — создать пустой файл\n",
    "- `rm` — удалить файл, `rm -r` — удалить директорию с содержимым\n",
    "- `cp` — скопировать файл, `cp -r` — скопировать директорию с соедржимым\n",
    "- `mv` — переместить файл или директорию (с содержимым)\n",
    "- `cat` — вывести содержимое файла, `less` — если вывод слишком большой\n",
    "- `grep` — поиск по содержимому файла\n",
    "- `nano` / `vim` — открыть файл в соответсвующем редакторе (`vimtutor` — учебник по `vim` для начинающих)"
   ]
  },
  {
   "cell_type": "markdown",
   "metadata": {
    "slideshow": {
     "slide_type": "slide"
    }
   },
   "source": [
    "Установка пакетов:\n",
    "- `apt-get install` — Ubuntu / Debian\n",
    "- `brew install` — Mac OS (требует установки: https://brew.sh/)"
   ]
  },
  {
   "cell_type": "markdown",
   "metadata": {
    "slideshow": {
     "slide_type": "fragment"
    }
   },
   "source": [
    "Некоторые команды требуют административных прав: `sudo <command>`\n",
    "![sudo](https://i.imgur.com/qzPSZGF.png)\n",
    "При вводе пароля в терминале не отображается ничего — это нормально"
   ]
  },
  {
   "cell_type": "markdown",
   "metadata": {
    "slideshow": {
     "slide_type": "slide"
    }
   },
   "source": [
    "# Git"
   ]
  },
  {
   "cell_type": "markdown",
   "metadata": {
    "slideshow": {
     "slide_type": "slide"
    }
   },
   "source": [
    "![git](https://pacificsky.ru/uploads/posts/2018-11/1543138597_git.png)"
   ]
  },
  {
   "cell_type": "markdown",
   "metadata": {
    "slideshow": {
     "slide_type": "-"
    }
   },
   "source": [
    "Сиcтема управления версиями (VCS) позволяет хранить несколько версий одного и того же документа, при необходимости возвращаться к более ранним версиям, определять, кто и когда сделал то или иное изменение, и многое другое.\n",
    "\n",
    "Git — распределённая система управления версиями, одна из многих."
   ]
  },
  {
   "cell_type": "markdown",
   "metadata": {
    "slideshow": {
     "slide_type": "slide"
    }
   },
   "source": [
    "## Зачем?"
   ]
  },
  {
   "cell_type": "markdown",
   "metadata": {
    "slideshow": {
     "slide_type": "fragment"
    }
   },
   "source": [
    "![history](https://i.imgur.com/wqSzEIJ.png)"
   ]
  },
  {
   "cell_type": "markdown",
   "metadata": {
    "slideshow": {
     "slide_type": "-"
    }
   },
   "source": [
    "- история\n",
    "- совместная разработка\n",
    "- аннотации / блейминг"
   ]
  },
  {
   "cell_type": "markdown",
   "metadata": {
    "slideshow": {
     "slide_type": "slide"
    }
   },
   "source": [
    "## Базовые команды"
   ]
  },
  {
   "cell_type": "markdown",
   "metadata": {
    "slideshow": {
     "slide_type": "fragment"
    }
   },
   "source": [
    "![basics](https://rachelcarmena.github.io/img/cards/posts/how-to-teach-Git/post-it.png)"
   ]
  },
  {
   "cell_type": "markdown",
   "metadata": {
    "slideshow": {
     "slide_type": "slide"
    }
   },
   "source": [
    "## Общая схема репозитория"
   ]
  },
  {
   "cell_type": "markdown",
   "metadata": {
    "slideshow": {
     "slide_type": "fragment"
    }
   },
   "source": [
    "![repo-schema](https://rachelcarmena.github.io/img/cards/posts/how-to-teach-Git/general-drawing.png)"
   ]
  },
  {
   "cell_type": "markdown",
   "metadata": {
    "slideshow": {
     "slide_type": "slide"
    }
   },
   "source": [
    "## Клонирование репозитория"
   ]
  },
  {
   "cell_type": "markdown",
   "metadata": {
    "slideshow": {
     "slide_type": "fragment"
    }
   },
   "source": [
    "![cloning](https://raw.githubusercontent.com/rachelcarmena/how-to-teach/master/git/clone.png)"
   ]
  },
  {
   "cell_type": "markdown",
   "metadata": {
    "slideshow": {
     "slide_type": "slide"
    }
   },
   "source": [
    "## Внесение изменений"
   ]
  },
  {
   "cell_type": "markdown",
   "metadata": {
    "slideshow": {
     "slide_type": "fragment"
    }
   },
   "source": [
    "![changes](https://raw.githubusercontent.com/rachelcarmena/how-to-teach/master/git/tracked-untracked.png)"
   ]
  },
  {
   "cell_type": "markdown",
   "metadata": {
    "slideshow": {
     "slide_type": "slide"
    }
   },
   "source": [
    "## Создание коммита"
   ]
  },
  {
   "cell_type": "markdown",
   "metadata": {
    "slideshow": {
     "slide_type": "fragment"
    }
   },
   "source": [
    "![git-commit-push](https://raw.githubusercontent.com/rachelcarmena/how-to-teach/master/git/add-commit-push.png)"
   ]
  },
  {
   "cell_type": "markdown",
   "metadata": {
    "slideshow": {
     "slide_type": "slide"
    }
   },
   "source": [
    "## Просмотр изменений"
   ]
  },
  {
   "cell_type": "markdown",
   "metadata": {
    "slideshow": {
     "slide_type": "fragment"
    }
   },
   "source": [
    "### `git status`"
   ]
  },
  {
   "cell_type": "markdown",
   "metadata": {
    "slideshow": {
     "slide_type": "-"
    }
   },
   "source": [
    "![status](https://i.imgur.com/rTINEUp.png)"
   ]
  },
  {
   "cell_type": "markdown",
   "metadata": {
    "slideshow": {
     "slide_type": "slide"
    }
   },
   "source": [
    "### `git diff`"
   ]
  },
  {
   "cell_type": "markdown",
   "metadata": {
    "slideshow": {
     "slide_type": "-"
    }
   },
   "source": [
    "![diff](https://i.imgur.com/whVIPbi.png)"
   ]
  },
  {
   "cell_type": "markdown",
   "metadata": {
    "slideshow": {
     "slide_type": "slide"
    }
   },
   "source": [
    "### `git log`"
   ]
  },
  {
   "cell_type": "markdown",
   "metadata": {
    "slideshow": {
     "slide_type": "-"
    }
   },
   "source": [
    "![log](https://i.imgur.com/m9piOzo.png)"
   ]
  },
  {
   "cell_type": "markdown",
   "metadata": {
    "slideshow": {
     "slide_type": "slide"
    }
   },
   "source": [
    "## Выгрузка обновлений"
   ]
  },
  {
   "cell_type": "markdown",
   "metadata": {
    "slideshow": {
     "slide_type": "fragment"
    }
   },
   "source": [
    "![pull](https://raw.githubusercontent.com/rachelcarmena/how-to-teach/master/git/pull.png)"
   ]
  },
  {
   "cell_type": "markdown",
   "metadata": {
    "slideshow": {
     "slide_type": "slide"
    }
   },
   "source": [
    "## Удаленные репозитории"
   ]
  },
  {
   "cell_type": "markdown",
   "metadata": {
    "slideshow": {
     "slide_type": "fragment"
    }
   },
   "source": [
    "![ggb](https://cdn-images-1.medium.com/max/1600/1*YN9I_2hq6yXNmNJe1IJ4lw.png)"
   ]
  },
  {
   "cell_type": "markdown",
   "metadata": {
    "slideshow": {
     "slide_type": "fragment"
    }
   },
   "source": [
    "## Что ещё почитать"
   ]
  },
  {
   "cell_type": "markdown",
   "metadata": {
    "slideshow": {
     "slide_type": "-"
    }
   },
   "source": [
    "Git Book: https://git-scm.com/book/ru/v2"
   ]
  },
  {
   "cell_type": "markdown",
   "metadata": {
    "slideshow": {
     "slide_type": "slide"
    }
   },
   "source": [
    "## CI / CD"
   ]
  },
  {
   "cell_type": "markdown",
   "metadata": {
    "slideshow": {
     "slide_type": "fragment"
    }
   },
   "source": [
    "![CI/CD](https://cdn-images-1.medium.com/max/1600/1*ezikvlWu0UAwFfh3ko8LXQ.png)"
   ]
  },
  {
   "cell_type": "markdown",
   "metadata": {
    "slideshow": {
     "slide_type": "slide"
    }
   },
   "source": [
    "## Наша тестирующая система"
   ]
  },
  {
   "cell_type": "markdown",
   "metadata": {
    "slideshow": {
     "slide_type": "-"
    }
   },
   "source": [
    "![testing-system](https://i.imgur.com/Rty7qMA.png)"
   ]
  },
  {
   "cell_type": "markdown",
   "metadata": {
    "slideshow": {
     "slide_type": "-"
    }
   },
   "source": [
    "Manytask: http://py.manytask.org/\n",
    "\n",
    "Репозиторий с задачами: https://gitlab.manytask.org/py-tasks/tasks\n",
    "\n",
    "Инструкция: https://gitlab.manytask.org/py-tasks/tasks/blob/master/README.md"
   ]
  },
  {
   "cell_type": "markdown",
   "metadata": {
    "slideshow": {
     "slide_type": "slide"
    }
   },
   "source": [
    "# SSH"
   ]
  },
  {
   "cell_type": "markdown",
   "metadata": {
    "slideshow": {
     "slide_type": "slide"
    }
   },
   "source": [
    "![ssh](https://www.ssh.com/s/ssh-tunneling-3138x956-4zmvrU8b.png)"
   ]
  },
  {
   "cell_type": "markdown",
   "metadata": {
    "slideshow": {
     "slide_type": "-"
    }
   },
   "source": [
    "SSH — защищенный протокол для удаленного доступа к компьютерам. Через SSH можно выполнять операции в командной строке компьютера, который физически находится в другом месте."
   ]
  },
  {
   "cell_type": "markdown",
   "metadata": {
    "slideshow": {
     "slide_type": "slide"
    }
   },
   "source": [
    "#### Для начала: https://guides.hexlet.io/ssh/\n",
    "#### Для продвинутых: https://habr.com/post/122445/ & https://xakep.ru/2016/12/16/ssh-tips-n-tricks/ (по подписке)\n",
    "#### ssh-agent: http://xgu.ru/wiki/Управление_ключами_SSH_с_помощью_агента (в ubuntu входит в состав gnome-keyring-daemon, запущен по-умолчанию)"
   ]
  }
 ],
 "metadata": {
  "celltoolbar": "Slideshow",
  "kernelspec": {
   "display_name": "Python 3",
   "language": "python",
   "name": "python3"
  },
  "language_info": {
   "codemirror_mode": {
    "name": "ipython",
    "version": 3
   },
   "file_extension": ".py",
   "mimetype": "text/x-python",
   "name": "python",
   "nbconvert_exporter": "python",
   "pygments_lexer": "ipython3",
   "version": "3.5.2"
  }
 },
 "nbformat": 4,
 "nbformat_minor": 2
}
